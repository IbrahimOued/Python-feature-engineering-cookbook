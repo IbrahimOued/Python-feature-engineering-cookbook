{
 "cells": [
  {
   "cell_type": "markdown",
   "metadata": {},
   "source": [
    "# Imputing Missing data"
   ]
  },
  {
   "cell_type": "markdown",
   "metadata": {},
   "source": [
    "## **Introduction**"
   ]
  },
  {
   "attachments": {},
   "cell_type": "markdown",
   "metadata": {},
   "source": [
    "Missing data refers to the absence of values for certain observations and is an unavoidable problem in most data sources. Scikit-learn does not support missing values as input, so we need to remove observations with missing data or transform them into permitted values. The act of replacing missing data with statistical estimates of missing values is called **imputation**. The goal of any imputation technique is to produce a complete dataset that can be used to train machine learning models. **There are multiple imputation techniques we can apply to our data**. **The choice of imputation technique** we use will depend on whether **the data is missing at random**, **the number of missing values**, and the **machine learning model we intend to use**. In this chapter, we will discuss several missing data imputation techniques."
   ]
  },
  {
   "cell_type": "code",
   "execution_count": 1,
   "metadata": {},
   "outputs": [],
   "source": [
    "import random\n",
    "import pandas as pd\n",
    "import numpy as np\n",
    "\n",
    "data = pd.read_csv('../data/crx.data', header=None)\n",
    "\n",
    "varnames = ['A'+str(s) for s in range(1, 17)]\n",
    "\n",
    "data.columns = varnames\n",
    "\n",
    "data = data.replace('?', np.nan)\n",
    "\n",
    "data['A2'] = data['A2'].astype('float')\n",
    "data['A14'] = data['A14'].astype('float')\n",
    "\n",
    "data['A16'] = data['A16'].map({'+':1, '-':0})\n",
    "\n",
    "random.seed(9001)\n",
    "values = [random.randint(0, len(data)) for p in range(0, 100)]\n",
    "for var in ['A3', 'A8', 'A9', 'A10']:\n",
    "    data.loc[values, var] = np.nan\n",
    "\n",
    "data.to_csv('../data/creditApprovalUCI.csv', index=False)"
   ]
  },
  {
   "cell_type": "markdown",
   "metadata": {},
   "source": [
    "## **Removing observations with missing data**"
   ]
  },
  {
   "attachments": {},
   "cell_type": "markdown",
   "metadata": {},
   "source": [
    "**Complete Case Analysis(CCA)**, also called **list-wise deletion of cases**, consists of **discarding those observations where the values in any of the variables are missing**. CCA can be applied to categorical and numerical variables. CCA is quick and easy to implement and has the advantage that it preserves the distribution of the variables, provided the data is missing at random and only a small proportion of the data is missing. However, if data is missing across many variables, CCA may lead to the removal of a big portion of the dataset."
   ]
  },
  {
   "cell_type": "markdown",
   "metadata": {},
   "source": [
    "### **How to do it**"
   ]
  },
  {
   "cell_type": "code",
   "execution_count": 2,
   "metadata": {},
   "outputs": [
    {
     "data": {
      "text/plain": [
       "A11    0.000000\n",
       "A12    0.000000\n",
       "A13    0.000000\n",
       "A15    0.000000\n",
       "A16    0.000000\n",
       "A4     0.008696\n",
       "A5     0.008696\n",
       "A6     0.013043\n",
       "A7     0.013043\n",
       "A1     0.017391\n",
       "A2     0.017391\n",
       "A14    0.018841\n",
       "A3     0.133333\n",
       "A8     0.133333\n",
       "A9     0.133333\n",
       "A10    0.133333\n",
       "dtype: float64"
      ]
     },
     "execution_count": 2,
     "metadata": {},
     "output_type": "execute_result"
    }
   ],
   "source": [
    "# 1 First, we'll import the libraries\n",
    "import pandas as pd\n",
    "\n",
    "# 2 Load the Credit Approval Dataset\n",
    "data = pd.read_csv('../data/creditApprovalUCI.csv')\n",
    "# 3 Calculate the percentage of missing values\n",
    "data.isnull().mean().sort_values(ascending=True)"
   ]
  },
  {
   "cell_type": "code",
   "execution_count": 3,
   "metadata": {},
   "outputs": [],
   "source": [
    "# 4 Now, we'll remove the observations with missing data in any of the variables:\n",
    "data_cca = data.dropna()"
   ]
  },
  {
   "cell_type": "markdown",
   "metadata": {},
   "source": [
    "> To remove observations where data is missing in a subset of variables, we can execute `data.dropna(subset=['A3', 'A4'])`. To remove observations if data is missing in all the variables, we can execute `data.dropna(how='all')`."
   ]
  },
  {
   "cell_type": "code",
   "execution_count": 4,
   "metadata": {},
   "outputs": [
    {
     "name": "stdout",
     "output_type": "stream",
     "text": [
      "Number of total observations: 690\n",
      "Number of observations with complete cases: 564\n"
     ]
    }
   ],
   "source": [
    "# 5 Let's print and compare the size of the original and complete case datasets:\n",
    "print('Number of total observations: {}'.format(len(data)))\n",
    "print('Number of observations with complete cases: {}'.format(len(data_cca)))"
   ]
  },
  {
   "cell_type": "markdown",
   "metadata": {},
   "source": [
    "## **Performing mean or median imputation**"
   ]
  },
  {
   "attachments": {},
   "cell_type": "markdown",
   "metadata": {},
   "source": [
    "**`Mean` or `median` imputation consists of replacing missing values with the variable mean or median** . This can **only be performed in numerical variables**. The **mean or the median is calculated using a train set**, and these values are used to **impute missing data in train and test sets**, as well as in future data we intend to score with the machine learning model. Therefore, we need to store these `mean` and `median` values. `Scikit-learn` and `Feature-engine` transformers learn the parameters from the train set and store these parameters for future use. So, in this recipe, we will learn how to perform mean or median imputation using the scikit-learn and Feature-engine libraries and pandas for comparison.\n",
    "\n",
    "> <font color=cyan>Use mean imputation if variables are normally distributed and median imputation otherwise</font>. **Mean and median imputation may distort the distribution of the original variables if there is a high percentage of missing data**."
   ]
  },
  {
   "cell_type": "markdown",
   "metadata": {},
   "source": [
    "### **How to do it**"
   ]
  },
  {
   "cell_type": "code",
   "execution_count": 23,
   "metadata": {},
   "outputs": [],
   "source": [
    "# 1 Import the libraries\n",
    "import pandas as pd\n",
    "from sklearn.model_selection import train_test_split\n",
    "from sklearn.impute import SimpleImputer\n",
    "from feature_engine.imputation import MeanMedianImputer\n",
    "# 2 Let's load the dataset\n",
    "data = pd.read_csv('../data/creditApprovalUCI.csv')\n",
    "# 3 In mean and median imputation, the mean or median values should be\n",
    "# calculated using the variables in the train set, therefore let's separate\n",
    "# the data into and sets and their respective targets\n",
    "X_train, X_test, y_train, y_test = train_test_split(data.drop('A16', axis=1), data['A16'], test_size=.3, random_state=0)"
   ]
  },
  {
   "cell_type": "markdown",
   "metadata": {},
   "source": [
    "> ou can check the size of the returned datasets using pandas' shape: `X_train.shape`, `X_test.shape`."
   ]
  },
  {
   "cell_type": "code",
   "execution_count": 25,
   "metadata": {},
   "outputs": [
    {
     "data": {
      "text/plain": [
       "A1     0.008282\n",
       "A2     0.022774\n",
       "A3     0.140787\n",
       "A4     0.008282\n",
       "A5     0.008282\n",
       "A6     0.008282\n",
       "A7     0.008282\n",
       "A8     0.140787\n",
       "A9     0.140787\n",
       "A10    0.140787\n",
       "A11    0.000000\n",
       "A12    0.000000\n",
       "A13    0.000000\n",
       "A14    0.014493\n",
       "A15    0.000000\n",
       "dtype: float64"
      ]
     },
     "execution_count": 25,
     "metadata": {},
     "output_type": "execute_result"
    }
   ],
   "source": [
    "# 4 Let's check the percentage of missing values in the train set\n",
    "X_train.isnull().mean()"
   ]
  },
  {
   "cell_type": "code",
   "execution_count": 7,
   "metadata": {},
   "outputs": [],
   "source": [
    "# 5 Let's replace the missing values with the median in five numerical variables using pandas:\n",
    "for var in ['A2', 'A3', 'A8', 'A11', 'A15']:\n",
    "    value = X_train[var].median()\n",
    "    X_train[var] = X_train[var].fillna(value)\n",
    "    X_test[var] = X_test[var].fillna(value)"
   ]
  },
  {
   "attachments": {},
   "cell_type": "markdown",
   "metadata": {},
   "source": [
    "Note **how we calculate the median using the train set and then use this value to replace the missing data in the train and test sets**.\n",
    "\n",
    "> To impute missing data with the mean, we use pandas' mean():`value = X_train[var].mean()`."
   ]
  },
  {
   "cell_type": "code",
   "execution_count": 8,
   "metadata": {},
   "outputs": [
    {
     "data": {
      "text/plain": [
       "A1     0.0\n",
       "A2     0.0\n",
       "A3     0.0\n",
       "A4     0.0\n",
       "A5     0.0\n",
       "A6     0.0\n",
       "A7     0.0\n",
       "A8     0.0\n",
       "A9     0.0\n",
       "A10    0.0\n",
       "A11    0.0\n",
       "A12    0.0\n",
       "A13    0.0\n",
       "A14    0.0\n",
       "A15    0.0\n",
       "dtype: float64"
      ]
     },
     "execution_count": 8,
     "metadata": {},
     "output_type": "execute_result"
    }
   ],
   "source": [
    "X_train.isnull().median()"
   ]
  },
  {
   "attachments": {},
   "cell_type": "markdown",
   "metadata": {},
   "source": [
    "> The pandas' `fillna()` returns a new dataset with imputed values by default. We can set the inplace argument to `True` to replace missing data in the original dataframe: `X_train[var].fillna(inplace=True)`.\n",
    "\n",
    "Now, let's impute missing values by the median using scikit-learn so that we can store learned parameters."
   ]
  },
  {
   "cell_type": "code",
   "execution_count": 9,
   "metadata": {},
   "outputs": [],
   "source": [
    "# 6 To do this, let's separate the original dataset into train and test sets, keeping only the numerical variables:\n",
    "X_train, X_test, y_train, y_test = train_test_split(\n",
    "    data[['A2', 'A3', 'A8', 'A11', 'A15']], data['A16'], \n",
    "    test_size=0.3, random_state=0)"
   ]
  },
  {
   "attachments": {},
   "cell_type": "markdown",
   "metadata": {},
   "source": [
    "> `SimpleImputer()` from scikit-learn **will impute all variables in the dataset**. Therefore, **if we use mean or median imputation and the dataset contains categorical variables, we will get an error**. "
   ]
  },
  {
   "cell_type": "code",
   "execution_count": 10,
   "metadata": {},
   "outputs": [],
   "source": [
    "# 7 Let's create a median imputation transformer using SimpleImputer() from scikit-learn:\n",
    "imputer = SimpleImputer(strategy='median')"
   ]
  },
  {
   "attachments": {},
   "cell_type": "markdown",
   "metadata": {},
   "source": [
    "> To perform mean imputation, we should set the strategy to mean: `imputer = SimpleImputer(strategy = 'mean')`."
   ]
  },
  {
   "cell_type": "code",
   "execution_count": 11,
   "metadata": {},
   "outputs": [
    {
     "data": {
      "text/plain": [
       "array([28.835,  2.75 ,  1.   ,  0.   ,  6.   ])"
      ]
     },
     "execution_count": 11,
     "metadata": {},
     "output_type": "execute_result"
    }
   ],
   "source": [
    "# 8 Let's fit the SimpleImputer() to the train set so that it learns the median values of the variables:\n",
    "imputer.fit(X_train)\n",
    "# 9 Let's inspect the learned median values:\n",
    "imputer.statistics_"
   ]
  },
  {
   "cell_type": "code",
   "execution_count": 12,
   "metadata": {},
   "outputs": [],
   "source": [
    "# 10 Let's replace missing values with medians:\n",
    "X_train = imputer.transform(X_train)\n",
    "X_test = imputer.transform(X_test)"
   ]
  },
  {
   "cell_type": "code",
   "execution_count": 26,
   "metadata": {},
   "outputs": [
    {
     "data": {
      "text/plain": [
       "pandas.core.frame.DataFrame"
      ]
     },
     "execution_count": 26,
     "metadata": {},
     "output_type": "execute_result"
    }
   ],
   "source": [
    "type(X_train)"
   ]
  },
  {
   "attachments": {},
   "cell_type": "markdown",
   "metadata": {},
   "source": [
    "> `SimpleImputer()` returns NumPy arrays. We can transform the array into a dataframe using `pd.DataFrame(X_train, columns = ['A2', 'A3', 'A8', 'A11', 'A15'])`. Be mindful of the order of the variables.\n",
    "\n",
    "Finally, let's perform median imputation using `MeanMedianImputer()` from `Feature-engine`. First, we need to load and divide the dataset, just like we did in step 2 and step 3. Next, we need to create an imputation transformer."
   ]
  },
  {
   "cell_type": "code",
   "execution_count": 19,
   "metadata": {},
   "outputs": [],
   "source": [
    "# 11 Let's set up a median imputation transformer using MeanMedianImputer() from Feature-engine specifying the variables to impute:\n",
    "median_imputer = MeanMedianImputer(imputation_method='median', variables=['A2', 'A3', 'A8', 'A11', 'A15'])"
   ]
  },
  {
   "attachments": {},
   "cell_type": "markdown",
   "metadata": {},
   "source": [
    "> To perform mean imputation, change the imputation method, as follows: `MeanMedianImputer(imputation_method='mean')`."
   ]
  },
  {
   "cell_type": "code",
   "execution_count": 29,
   "metadata": {},
   "outputs": [
    {
     "data": {
      "text/plain": [
       "{'A2': 28.835, 'A3': 2.75, 'A8': 1.0, 'A11': 0.0, 'A15': 6.0}"
      ]
     },
     "execution_count": 29,
     "metadata": {},
     "output_type": "execute_result"
    }
   ],
   "source": [
    "# 12 Let's fit the median imputer so that it learns the median values for each of the specified variables:\n",
    "median_imputer.fit(X_train)\n",
    "# 13 Let's inspect the learned medians:\n",
    "median_imputer.imputer_dict_"
   ]
  },
  {
   "cell_type": "code",
   "execution_count": 30,
   "metadata": {},
   "outputs": [],
   "source": [
    "# 14 Finally, let's replace the missing values with the median:\n",
    "X_train = median_imputer.transform(X_train)\n",
    "X_test = median_imputer.transform(X_test)"
   ]
  },
  {
   "cell_type": "code",
   "execution_count": 33,
   "metadata": {},
   "outputs": [
    {
     "data": {
      "text/plain": [
       "A2     0.0\n",
       "A3     0.0\n",
       "A8     0.0\n",
       "A11    0.0\n",
       "A15    0.0\n",
       "dtype: float64"
      ]
     },
     "execution_count": 33,
     "metadata": {},
     "output_type": "execute_result"
    }
   ],
   "source": [
    "X_train[['A2','A3', 'A8', 'A11', 'A15']].isnull().mean()"
   ]
  },
  {
   "cell_type": "markdown",
   "metadata": {},
   "source": [
    "### **There's more**"
   ]
  },
  {
   "attachments": {},
   "cell_type": "markdown",
   "metadata": {},
   "source": [
    "Scikit-learn's `SimpleImputer()` **imputes all the variables in the dataset** but, with scikit-learn's `ColumnTransformer()`, we can `select specific variables we want to impute`. For details on how to use `ColumnTransformer()` with `SimpleImputer()`, see ***the Assembling an imputation pipeline with scikit-learn*** recipe."
   ]
  },
  {
   "attachments": {},
   "cell_type": "markdown",
   "metadata": {},
   "source": [
    "## **Implementing mode or frequent category imputation**"
   ]
  },
  {
   "attachments": {},
   "cell_type": "markdown",
   "metadata": {},
   "source": [
    "Mode imputation consists of replacing missing values with the mode. We normally use this procedure in categorical variables, hen the **frequent category imputation** name. Frequent categories are estimated using the train set and then used to impute values in train, test and future datasets. Thus, we need to learn and store these parameters, which we can do using `scikit-learn` and `Feature-engine`'s `transformers`\n",
    "\n",
    "> <font color=cyan>If the percentage of missing values is high, frequent category imputation may distort the original distribution of categories.</font>"
   ]
  },
  {
   "attachments": {},
   "cell_type": "markdown",
   "metadata": {},
   "source": [
    "### **How to do it**"
   ]
  },
  {
   "cell_type": "code",
   "execution_count": 54,
   "metadata": {},
   "outputs": [],
   "source": [
    "# 1 Let's do the importations\n",
    "import pandas as pd\n",
    "from sklearn.model_selection import train_test_split\n",
    "from sklearn.impute import SimpleImputer\n",
    "from feature_engine.imputation import CategoricalImputer\n",
    "\n",
    "# 2 Let's load the dataset\n",
    "data = pd.read_csv('../data/creditApprovalUCI.csv')\n",
    "\n",
    "# 3 Frequent categories should be calculated using the train set variables, so let's separate the data\n",
    "# into train and test sets and their respective targets\n",
    "X_train, X_test, y_train, y_test = train_test_split(data.drop('A16', axis=1), data['A16'], test_size=.3, random_state=0)\n",
    "\n",
    "# 4 Let's replace missing values with the frequent category category, taht is, the mode,\n",
    "# in four categorical variables\n",
    "for var in ['A4', 'A5', 'A6', 'A7']:\n",
    "    value = X_train[var].mode()[0]\n",
    "    X_train[var] = X_train[var].fillna(value)\n",
    "    X_test[var] = X_test[var].fillna(value)"
   ]
  },
  {
   "attachments": {},
   "cell_type": "markdown",
   "metadata": {},
   "source": [
    "> The pandas' `fillna()` returns a new dataset with imputed values by default. Instead of doing this, we can replace missing data in the original dataframe by executing `X_train[var].fillna(inplace=True)`."
   ]
  },
  {
   "cell_type": "code",
   "execution_count": 56,
   "metadata": {},
   "outputs": [],
   "source": [
    "# 5 First, let's separate the original dataset into train and test sets and only retain the categorical variables:\n",
    "X_train, X_test, y_train, y_test = train_test_split(data[['A4', 'A5', 'A6', 'A7']], data['A16'], test_size=.3, random_state=0)\n",
    "# 6 Let's create a frequent category imputer with SimpleImputer() from scikit-learn\n",
    "imputer = SimpleImputer(strategy='most_frequent')"
   ]
  },
  {
   "attachments": {},
   "cell_type": "markdown",
   "metadata": {},
   "source": [
    "`SimpleImputer()` from scikit-learn **will learn the mode for numerical and categorical variables alike**. But **in practice, mode imputation is done for categorical variables only**."
   ]
  },
  {
   "cell_type": "code",
   "execution_count": 57,
   "metadata": {},
   "outputs": [
    {
     "data": {
      "text/plain": [
       "array(['u', 'g', 'c', 'v'], dtype=object)"
      ]
     },
     "execution_count": 57,
     "metadata": {},
     "output_type": "execute_result"
    }
   ],
   "source": [
    "# 7 Let's fit the imputer to the train set so that it learns the most frequent values\n",
    "imputer.fit(X_train)\n",
    "# 8 Let's inspect the most frequent values learned by the imputer\n",
    "imputer.statistics_"
   ]
  },
  {
   "cell_type": "code",
   "execution_count": 58,
   "metadata": {},
   "outputs": [],
   "source": [
    "# 9 Let's replace missing values with frequent categories\n",
    "X_train = imputer.transform(X_train)\n",
    "X_test = imputer.transform(X_test)"
   ]
  },
  {
   "attachments": {},
   "cell_type": "markdown",
   "metadata": {},
   "source": [
    "Note that `SimpleImputer()` will return a NumPy array and not a pandas dataframe.\n",
    "Finally, let's impute missing values using Feature-engine. First, we need to load and separate the data into train and test sets, just like we did in step 2 and step 3 in this recipe."
   ]
  },
  {
   "cell_type": "code",
   "execution_count": 71,
   "metadata": {},
   "outputs": [],
   "source": [
    "X_train, X_test, y_train, y_test = train_test_split(data[['A4', 'A5', 'A6', 'A7']], data['A16'], test_size=.3, random_state=0)"
   ]
  },
  {
   "cell_type": "code",
   "execution_count": 73,
   "metadata": {},
   "outputs": [],
   "source": [
    "# 10 Next, let's create a frequent category imputer with CategoricalImputer\n",
    "mode_imputer = CategoricalImputer(variables=['A4', 'A5', 'A6', 'A7'])"
   ]
  },
  {
   "attachments": {},
   "cell_type": "markdown",
   "metadata": {},
   "source": [
    "`CategorcalImputer()` will select all categorical variables in the train set by default; that is, unless we pass a list of variables to impute."
   ]
  },
  {
   "cell_type": "code",
   "execution_count": 75,
   "metadata": {},
   "outputs": [
    {
     "data": {
      "text/plain": [
       "{'A4': 'Missing', 'A5': 'Missing', 'A6': 'Missing', 'A7': 'Missing'}"
      ]
     },
     "execution_count": 75,
     "metadata": {},
     "output_type": "execute_result"
    }
   ],
   "source": [
    "# 11 Let's fit the imputation transformer to the train set so that it learns the most\n",
    "# frequent categories\n",
    "mode_imputer.fit(X_train)\n",
    "# 12 Let's inspect the learned frequent categories\n",
    "mode_imputer.imputer_dict_"
   ]
  },
  {
   "cell_type": "code",
   "execution_count": 76,
   "metadata": {},
   "outputs": [],
   "source": [
    "# 13 Finally, let's replace the missing values with frequent categories:\n",
    "X_train = mode_imputer.transform(X_train)\n",
    "X_test = mode_imputer.transform(X_test)"
   ]
  },
  {
   "attachments": {},
   "cell_type": "markdown",
   "metadata": {},
   "source": [
    "`CategoricalImputer()` returns a pandas dataframe with the imputed values.\n",
    "\n",
    "Remember that you can check that the categorical variables do not contain missing values by using `X_train[['A4', 'A5', 'A6', 'A7']].isnull().mean()`."
   ]
  },
  {
   "attachments": {},
   "cell_type": "markdown",
   "metadata": {},
   "source": [
    "## **Replacing missing values with an arbitrary number**"
   ]
  },
  {
   "attachments": {},
   "cell_type": "markdown",
   "metadata": {},
   "source": [
    "Arbitrary number imputation consists of replacing missing values with an arbitrary value. Some commonly used values include $999$, $9999$, or $-1$ for positive distributions. This method is suitable for numerical variables. A similar method for categorical variables will be discussed in the *Capturing missing values in a bespoke category* recipe.\n",
    "\n",
    "When replacing missing values with an arbitrary number, **we need to be careful not to select a value close to the mean or the median, or any other common value of the distribution**.\n",
    "\n",
    "> Arbitrary number imputation can be used when data is not missing at random, when we are building non-linear models, and when the percentage of missing data is high. This imputation technique distorts the original variable distribution."
   ]
  },
  {
   "attachments": {},
   "cell_type": "markdown",
   "metadata": {},
   "source": [
    "### **How to do it**"
   ]
  },
  {
   "cell_type": "code",
   "execution_count": 1,
   "metadata": {},
   "outputs": [
    {
     "data": {
      "text/plain": [
       "A2     76.750\n",
       "A3     26.335\n",
       "A8     20.000\n",
       "A11    67.000\n",
       "dtype: float64"
      ]
     },
     "execution_count": 1,
     "metadata": {},
     "output_type": "execute_result"
    }
   ],
   "source": [
    "# 1 Import pandas and the required functions and classes from scikit-learn and Feature-engine:\n",
    "import pandas as pd\n",
    "from sklearn.model_selection import train_test_split\n",
    "from sklearn.impute import SimpleImputer\n",
    "from feature_engine.imputation import ArbitraryNumberImputer\n",
    "# 2 Let's load the dataset:\n",
    "data = pd.read_csv('../data/creditApprovalUCI.csv')\n",
    "# 3 Let's separate the data into train and test sets:\n",
    "X_train, X_test, y_train, y_test = train_test_split(data.drop('A16', axis=1), data['A16'], test_size=0.3, random_state=0)\n",
    "# Normally, we select arbitrary values that are bigger than the maximum value of the distribution.\n",
    "# Let's find the maximum value of four numerical variables:\n",
    "X_train[['A2','A3', 'A8', 'A11']].max()"
   ]
  },
  {
   "cell_type": "code",
   "execution_count": 2,
   "metadata": {},
   "outputs": [],
   "source": [
    "# 5 Let's replace the missing values with 99 in the numerical variables that we specified in step 4:\n",
    "for var in ['A2','A3', 'A8', 'A11']:\n",
    "    X_train[var].fillna(99, inplace=True)\n",
    "    X_test[var].fillna(99, inplace=True)"
   ]
  },
  {
   "attachments": {},
   "cell_type": "markdown",
   "metadata": {},
   "source": [
    "Now, we'll impute missing values with an arbitrary number using scikit-learn instead."
   ]
  },
  {
   "cell_type": "code",
   "execution_count": 3,
   "metadata": {},
   "outputs": [],
   "source": [
    "# 6 First, let's separate the data into train and test sets while keeping only the numerical variables:\n",
    "X_train, X_test, y_train, y_test = train_test_split(data[['A2', 'A3', 'A8', 'A11']], data['A16'], test_size=0.3, random_state=0)\n",
    "# 7 Let's set up SimpleImputer() so that it replaces any missing values with 99:\n",
    "imputer = SimpleImputer(strategy='constant', fill_value=99)\n",
    "# 8 Let's fit the imputer to the train set:\n",
    "imputer.fit(X_train)\n",
    "# 9 Let's replace the missing values with 99:\n",
    "X_train = imputer.transform(X_train)\n",
    "X_test = imputer.transform(X_test)"
   ]
  },
  {
   "attachments": {},
   "cell_type": "markdown",
   "metadata": {},
   "source": [
    "o finish, let's impute missing values using Feature-engine. First, we need to load the data and separate it into train and test sets, just like we did in step 2 and step 3."
   ]
  },
  {
   "cell_type": "code",
   "execution_count": 5,
   "metadata": {},
   "outputs": [],
   "source": [
    "X_train, X_test, y_train, y_test = train_test_split(data[['A2', 'A3', 'A8', 'A11']], data['A16'], test_size=0.3, random_state=0)\n",
    "\n",
    "# 10 Next, let's create an imputation transformer with Feature-engine's ArbitraryNumberImputer() in order to replace any missing values with 99 and specify the variables from which missing data should be imputed:\n",
    "imputer = ArbitraryNumberImputer(arbitrary_number=99, variables=['A2','A3', 'A8', 'A11']) \n",
    "# ArbitraryNumberImputer() will automatically select all numerical variables in the train set; that is, unless we specify which variables to impute in a list.\n",
    "# 11 Let's fit the arbitrary number imputer to the train set:\n",
    "imputer.fit(X_train)\n",
    "# 12 Finally, let's replace the missing values with 99:\n",
    "X_train = imputer.transform(X_train)\n",
    "X_test = imputer.transform(X_test)"
   ]
  },
  {
   "attachments": {},
   "cell_type": "markdown",
   "metadata": {},
   "source": [
    "## **Capturing missing values in a bespoke category**"
   ]
  },
  {
   "attachments": {},
   "cell_type": "markdown",
   "metadata": {},
   "source": [
    "Missing data in categorical variables can be treated as a different category, so it is common to replace missing values with the Missing string. In this recipe, we will learn how to do so using pandas, scikit-learn, and Feature-engine."
   ]
  },
  {
   "attachments": {},
   "cell_type": "markdown",
   "metadata": {},
   "source": [
    "### **How to do it**"
   ]
  },
  {
   "cell_type": "code",
   "execution_count": 6,
   "metadata": {},
   "outputs": [
    {
     "data": {
      "text/html": [
       "<style>#sk-container-id-1 {color: black;background-color: white;}#sk-container-id-1 pre{padding: 0;}#sk-container-id-1 div.sk-toggleable {background-color: white;}#sk-container-id-1 label.sk-toggleable__label {cursor: pointer;display: block;width: 100%;margin-bottom: 0;padding: 0.3em;box-sizing: border-box;text-align: center;}#sk-container-id-1 label.sk-toggleable__label-arrow:before {content: \"▸\";float: left;margin-right: 0.25em;color: #696969;}#sk-container-id-1 label.sk-toggleable__label-arrow:hover:before {color: black;}#sk-container-id-1 div.sk-estimator:hover label.sk-toggleable__label-arrow:before {color: black;}#sk-container-id-1 div.sk-toggleable__content {max-height: 0;max-width: 0;overflow: hidden;text-align: left;background-color: #f0f8ff;}#sk-container-id-1 div.sk-toggleable__content pre {margin: 0.2em;color: black;border-radius: 0.25em;background-color: #f0f8ff;}#sk-container-id-1 input.sk-toggleable__control:checked~div.sk-toggleable__content {max-height: 200px;max-width: 100%;overflow: auto;}#sk-container-id-1 input.sk-toggleable__control:checked~label.sk-toggleable__label-arrow:before {content: \"▾\";}#sk-container-id-1 div.sk-estimator input.sk-toggleable__control:checked~label.sk-toggleable__label {background-color: #d4ebff;}#sk-container-id-1 div.sk-label input.sk-toggleable__control:checked~label.sk-toggleable__label {background-color: #d4ebff;}#sk-container-id-1 input.sk-hidden--visually {border: 0;clip: rect(1px 1px 1px 1px);clip: rect(1px, 1px, 1px, 1px);height: 1px;margin: -1px;overflow: hidden;padding: 0;position: absolute;width: 1px;}#sk-container-id-1 div.sk-estimator {font-family: monospace;background-color: #f0f8ff;border: 1px dotted black;border-radius: 0.25em;box-sizing: border-box;margin-bottom: 0.5em;}#sk-container-id-1 div.sk-estimator:hover {background-color: #d4ebff;}#sk-container-id-1 div.sk-parallel-item::after {content: \"\";width: 100%;border-bottom: 1px solid gray;flex-grow: 1;}#sk-container-id-1 div.sk-label:hover label.sk-toggleable__label {background-color: #d4ebff;}#sk-container-id-1 div.sk-serial::before {content: \"\";position: absolute;border-left: 1px solid gray;box-sizing: border-box;top: 0;bottom: 0;left: 50%;z-index: 0;}#sk-container-id-1 div.sk-serial {display: flex;flex-direction: column;align-items: center;background-color: white;padding-right: 0.2em;padding-left: 0.2em;position: relative;}#sk-container-id-1 div.sk-item {position: relative;z-index: 1;}#sk-container-id-1 div.sk-parallel {display: flex;align-items: stretch;justify-content: center;background-color: white;position: relative;}#sk-container-id-1 div.sk-item::before, #sk-container-id-1 div.sk-parallel-item::before {content: \"\";position: absolute;border-left: 1px solid gray;box-sizing: border-box;top: 0;bottom: 0;left: 50%;z-index: -1;}#sk-container-id-1 div.sk-parallel-item {display: flex;flex-direction: column;z-index: 1;position: relative;background-color: white;}#sk-container-id-1 div.sk-parallel-item:first-child::after {align-self: flex-end;width: 50%;}#sk-container-id-1 div.sk-parallel-item:last-child::after {align-self: flex-start;width: 50%;}#sk-container-id-1 div.sk-parallel-item:only-child::after {width: 0;}#sk-container-id-1 div.sk-dashed-wrapped {border: 1px dashed gray;margin: 0 0.4em 0.5em 0.4em;box-sizing: border-box;padding-bottom: 0.4em;background-color: white;}#sk-container-id-1 div.sk-label label {font-family: monospace;font-weight: bold;display: inline-block;line-height: 1.2em;}#sk-container-id-1 div.sk-label-container {text-align: center;}#sk-container-id-1 div.sk-container {/* jupyter's `normalize.less` sets `[hidden] { display: none; }` but bootstrap.min.css set `[hidden] { display: none !important; }` so we also need the `!important` here to be able to override the default hidden behavior on the sphinx rendered scikit-learn.org. See: https://github.com/scikit-learn/scikit-learn/issues/21755 */display: inline-block !important;position: relative;}#sk-container-id-1 div.sk-text-repr-fallback {display: none;}</style><div id=\"sk-container-id-1\" class=\"sk-top-container\"><div class=\"sk-text-repr-fallback\"><pre>SimpleImputer(fill_value=&#x27;Missing&#x27;, strategy=&#x27;constant&#x27;)</pre><b>In a Jupyter environment, please rerun this cell to show the HTML representation or trust the notebook. <br />On GitHub, the HTML representation is unable to render, please try loading this page with nbviewer.org.</b></div><div class=\"sk-container\" hidden><div class=\"sk-item\"><div class=\"sk-estimator sk-toggleable\"><input class=\"sk-toggleable__control sk-hidden--visually\" id=\"sk-estimator-id-1\" type=\"checkbox\" checked><label for=\"sk-estimator-id-1\" class=\"sk-toggleable__label sk-toggleable__label-arrow\">SimpleImputer</label><div class=\"sk-toggleable__content\"><pre>SimpleImputer(fill_value=&#x27;Missing&#x27;, strategy=&#x27;constant&#x27;)</pre></div></div></div></div></div>"
      ],
      "text/plain": [
       "SimpleImputer(fill_value='Missing', strategy='constant')"
      ]
     },
     "execution_count": 6,
     "metadata": {},
     "output_type": "execute_result"
    }
   ],
   "source": [
    "# 1 Import pandas and the required functions and classes from scikit-learn and Feature-engine:\n",
    "import pandas as pd\n",
    "from sklearn.model_selection import train_test_split\n",
    "from sklearn.impute import SimpleImputer\n",
    "from feature_engine.imputation import CategoricalImputer\n",
    "# 2 Let's load the dataset:\n",
    "data = pd.read_csv('../data/creditApprovalUCI.csv')\n",
    "# 3 Let's separate the data into train and test sets:\n",
    "X_train, X_test, y_train, y_test = train_test_split(data.drop('A16', axis=1), data['A16'], test_size=0.3, random_state=0)\n",
    "# 4 Let's replace missing values in four categorical variables by using the Missing string:\n",
    "for var in ['A4', 'A5', 'A6', 'A7']:\n",
    "    X_train[var].fillna('Missing', inplace=True)\n",
    "    X_test[var].fillna('Missing', inplace=True)\n",
    "# Alternatively, we can replace missing values with the Missing string using scikit-learn as follows.\n",
    "\n",
    "# 5 First, let's separate the data into train and test sets while keeping only categorical variables:\n",
    "X_train, X_test, y_train, y_test = train_test_split(data[['A4', 'A5', 'A6', 'A7']], data['A16'], test_size=0.3, random_state=0)\n",
    "# 6 Let's set up SimpleImputer() so that it replaces missing data with the Missing string and fit it to the train set:\n",
    "imputer = SimpleImputer(strategy='constant', fill_value='Missing')\n",
    "imputer.fit(X_train)"
   ]
  },
  {
   "attachments": {},
   "cell_type": "markdown",
   "metadata": {},
   "source": [
    "> `impleImputer()` from scikit-learn **will replace missing values with Missing in both numerical and categorical variables**. Be careful of this behavior or you will end up accidentally casting your numerical variables as objects."
   ]
  },
  {
   "cell_type": "code",
   "execution_count": 7,
   "metadata": {},
   "outputs": [],
   "source": [
    "# 7 Let's replace the missing values:\n",
    "X_train = imputer.transform(X_train)\n",
    "X_test = imputer.transform(X_test)"
   ]
  },
  {
   "attachments": {},
   "cell_type": "markdown",
   "metadata": {},
   "source": [
    "> Remember that SimpleImputer() returns a NumPy array, which you can transform into a dataframe using `pd.DataFrame(X_train, columns = ['A4', 'A5', 'A6', 'A7'])`."
   ]
  },
  {
   "attachments": {},
   "cell_type": "markdown",
   "metadata": {},
   "source": [
    "To finish, let's impute missing values using Feature-engine. First, we need to separate the dataset, just like we did in step 3 of this recipe. "
   ]
  },
  {
   "cell_type": "code",
   "execution_count": 8,
   "metadata": {},
   "outputs": [],
   "source": [
    "X_train, X_test, y_train, y_test = train_test_split(data.drop('A16', axis=1), data['A16'], test_size=0.3, random_state=0)\n",
    "# 8 Next, let's set up the CategoricalVariableImputer() from Feature-engine, which replaces missing values with the Missing string, specifying the categorical variables to impute, and then fit the transformer to the train set:\n",
    "imputer = CategoricalImputer(variables=['A4', 'A5', 'A6', 'A7'])\n",
    "imputer.fit(X_train)\n",
    "# If we don't pass a list with categorical variables, FrequentCategoryImputer() will select all categorical variables in the train set.\n",
    "# 9 Finally, let's replace the missing values:\n",
    "X_train = imputer.transform(X_train)\n",
    "X_test = imputer.transform(X_test)"
   ]
  },
  {
   "attachments": {},
   "cell_type": "markdown",
   "metadata": {},
   "source": [
    "## **Replacing missing values with a value at the end of the distribution**"
   ]
  },
  {
   "attachments": {},
   "cell_type": "markdown",
   "metadata": {},
   "source": [
    "Replacing missing values with a value at the end of the variable distribution is equivalent to replacing them with an arbitrary value, but instead of identifying the arbitrary values manually, these values are automatically selected as those at the very end of the variable distribution. The values that are used to replace missing information are estimated using the mean plus or minus three times the standard deviation if the variable is normally distributed, or the inter-quartile range $(IQR)$ proximity rule otherwise. According to the IQR proximity rule, missing values will be replaced with the $\\text{ 75th quantile} + (IQR \\times 1.5)$ at the right tail or by the $\\text{25th quantile} - (IQR \\times 1.5)$ at the left tail. The IQR is given by the $\\text{75th quantile} - \\text{the 25th quantile}$."
   ]
  },
  {
   "attachments": {},
   "cell_type": "markdown",
   "metadata": {},
   "source": [
    "> Some users will also identify the minimum or maximum values of the variable and replace missing data as a factor of these values, for example, three times the maximum value.\n",
    "\n",
    "The value that's used to replace missing information should be learned from the train set and stored to impute train, test, and future data. Feature-engine offers this functionality. In this recipe, we will implement end-of-tail imputation using pandas and Feature-engine.\n",
    "\n",
    "> End-of-tail imputation may distort the distribution of the original variables, so it may not be suitable for linear models."
   ]
  },
  {
   "cell_type": "markdown",
   "metadata": {},
   "source": [
    "### **How to do it**"
   ]
  },
  {
   "cell_type": "code",
   "execution_count": 16,
   "metadata": {},
   "outputs": [],
   "source": [
    "# 1 Let's import the libs\n",
    "import pandas as pd\n",
    "from sklearn.model_selection import train_test_split\n",
    "from feature_engine.imputation import EndTailImputer\n",
    "# 2 Let's load the dataset\n",
    "data = pd.read_csv('../data/creditApprovalUCI.csv')\n",
    "# 3 Let's separate the data intro train and test sets\n",
    "X_train, X_test, y_train, y_test = train_test_split(data.drop('A16', axis=1), data['A16'], test_size=.3, random_state=0)\n",
    "# 4 Let's loop over 5 numerical variables, calculate IQR, determine the value of the 75th quantile\n",
    "# plus 1.5 times the IQR, and replace the missing observations in the train and test sets with that\n",
    "# value\n",
    "for var in ['A2', 'A3', 'A8', 'A11', 'A15']:\n",
    "    IQR = X_train[var].quantile(0.75) - X_train[var].quantile(0.25)\n",
    "    value = X_train[var].quantile(0.75) + 1.5 * IQR\n",
    "\n",
    "    X_train[var] = X_train[var].fillna(value)\n",
    "    X_test[var] = X_test[var].fillna(value)"
   ]
  },
  {
   "cell_type": "code",
   "execution_count": 17,
   "metadata": {},
   "outputs": [
    {
     "data": {
      "text/html": [
       "<div>\n",
       "<style scoped>\n",
       "    .dataframe tbody tr th:only-of-type {\n",
       "        vertical-align: middle;\n",
       "    }\n",
       "\n",
       "    .dataframe tbody tr th {\n",
       "        vertical-align: top;\n",
       "    }\n",
       "\n",
       "    .dataframe thead th {\n",
       "        text-align: right;\n",
       "    }\n",
       "</style>\n",
       "<table border=\"1\" class=\"dataframe\">\n",
       "  <thead>\n",
       "    <tr style=\"text-align: right;\">\n",
       "      <th></th>\n",
       "      <th>A1</th>\n",
       "      <th>A2</th>\n",
       "      <th>A3</th>\n",
       "      <th>A4</th>\n",
       "      <th>A5</th>\n",
       "      <th>A6</th>\n",
       "      <th>A7</th>\n",
       "      <th>A8</th>\n",
       "      <th>A9</th>\n",
       "      <th>A10</th>\n",
       "      <th>A11</th>\n",
       "      <th>A12</th>\n",
       "      <th>A13</th>\n",
       "      <th>A14</th>\n",
       "      <th>A15</th>\n",
       "      <th>A16</th>\n",
       "    </tr>\n",
       "  </thead>\n",
       "  <tbody>\n",
       "    <tr>\n",
       "      <th>0</th>\n",
       "      <td>b</td>\n",
       "      <td>30.83</td>\n",
       "      <td>0.000</td>\n",
       "      <td>u</td>\n",
       "      <td>g</td>\n",
       "      <td>w</td>\n",
       "      <td>v</td>\n",
       "      <td>1.25</td>\n",
       "      <td>t</td>\n",
       "      <td>t</td>\n",
       "      <td>1</td>\n",
       "      <td>f</td>\n",
       "      <td>g</td>\n",
       "      <td>202.0</td>\n",
       "      <td>0</td>\n",
       "      <td>1</td>\n",
       "    </tr>\n",
       "    <tr>\n",
       "      <th>1</th>\n",
       "      <td>a</td>\n",
       "      <td>58.67</td>\n",
       "      <td>4.460</td>\n",
       "      <td>u</td>\n",
       "      <td>g</td>\n",
       "      <td>q</td>\n",
       "      <td>h</td>\n",
       "      <td>3.04</td>\n",
       "      <td>t</td>\n",
       "      <td>t</td>\n",
       "      <td>6</td>\n",
       "      <td>f</td>\n",
       "      <td>g</td>\n",
       "      <td>43.0</td>\n",
       "      <td>560</td>\n",
       "      <td>1</td>\n",
       "    </tr>\n",
       "    <tr>\n",
       "      <th>2</th>\n",
       "      <td>a</td>\n",
       "      <td>24.50</td>\n",
       "      <td>NaN</td>\n",
       "      <td>u</td>\n",
       "      <td>g</td>\n",
       "      <td>q</td>\n",
       "      <td>h</td>\n",
       "      <td>NaN</td>\n",
       "      <td>NaN</td>\n",
       "      <td>NaN</td>\n",
       "      <td>0</td>\n",
       "      <td>f</td>\n",
       "      <td>g</td>\n",
       "      <td>280.0</td>\n",
       "      <td>824</td>\n",
       "      <td>1</td>\n",
       "    </tr>\n",
       "    <tr>\n",
       "      <th>3</th>\n",
       "      <td>b</td>\n",
       "      <td>27.83</td>\n",
       "      <td>1.540</td>\n",
       "      <td>u</td>\n",
       "      <td>g</td>\n",
       "      <td>w</td>\n",
       "      <td>v</td>\n",
       "      <td>3.75</td>\n",
       "      <td>t</td>\n",
       "      <td>t</td>\n",
       "      <td>5</td>\n",
       "      <td>t</td>\n",
       "      <td>g</td>\n",
       "      <td>100.0</td>\n",
       "      <td>3</td>\n",
       "      <td>1</td>\n",
       "    </tr>\n",
       "    <tr>\n",
       "      <th>4</th>\n",
       "      <td>b</td>\n",
       "      <td>20.17</td>\n",
       "      <td>5.625</td>\n",
       "      <td>u</td>\n",
       "      <td>g</td>\n",
       "      <td>w</td>\n",
       "      <td>v</td>\n",
       "      <td>1.71</td>\n",
       "      <td>t</td>\n",
       "      <td>f</td>\n",
       "      <td>0</td>\n",
       "      <td>f</td>\n",
       "      <td>s</td>\n",
       "      <td>120.0</td>\n",
       "      <td>0</td>\n",
       "      <td>1</td>\n",
       "    </tr>\n",
       "  </tbody>\n",
       "</table>\n",
       "</div>"
      ],
      "text/plain": [
       "  A1     A2     A3 A4 A5 A6 A7    A8   A9  A10  A11 A12 A13    A14  A15  A16\n",
       "0  b  30.83  0.000  u  g  w  v  1.25    t    t    1   f   g  202.0    0    1\n",
       "1  a  58.67  4.460  u  g  q  h  3.04    t    t    6   f   g   43.0  560    1\n",
       "2  a  24.50    NaN  u  g  q  h   NaN  NaN  NaN    0   f   g  280.0  824    1\n",
       "3  b  27.83  1.540  u  g  w  v  3.75    t    t    5   t   g  100.0    3    1\n",
       "4  b  20.17  5.625  u  g  w  v  1.71    t    f    0   f   s  120.0    0    1"
      ]
     },
     "execution_count": 17,
     "metadata": {},
     "output_type": "execute_result"
    }
   ],
   "source": [
    "data.head()"
   ]
  },
  {
   "attachments": {},
   "cell_type": "markdown",
   "metadata": {},
   "source": [
    "> If we want to use the Gaussian approximation instead of the IQR proximity rule, we can calculate the value to replace missing data using `value = X_train[var].mean() + 3*X_train[var].std()`. Some users also calculate the value as `X_train[var].max()*3`.\n",
    "\n",
    "Note how we calculated the value to impute the missing data using the variables in the train set and then used this to impute train and test sets.\n",
    "\n",
    "We can also place replace missing data with values at the left tail of the distribution using `value = X_train[var].quantile(0.25) - 1.5 * IQR` or `value = X_train[var].mean() - 3*X_train[var].std()`.\n",
    "\n",
    "To finish, let's impute missing values using Feature-engine. First, we need to load and separate the data into train and test sets, just like in step 2 and step 3 of this recipe."
   ]
  },
  {
   "cell_type": "code",
   "execution_count": 24,
   "metadata": {},
   "outputs": [],
   "source": [
    "# 5 Next, let's set up EndTailImputer() so that we can estimate a value at the right tail using the IQR proximity rule and specify the variables we wish to impute:\n",
    "imputer = EndTailImputer(imputation_method='gaussian', tail='right', variables=['A2', 'A3', 'A8', 'A11', 'A15'])"
   ]
  },
  {
   "attachments": {},
   "cell_type": "markdown",
   "metadata": {},
   "source": [
    "To use mean and standard deviation to calculate the replacement values, we need to set `imputation_method='iqr'`. We can use `'left'` or `'right'` in the `tail` argument to specify the side of the distribution where we'll place the missing values."
   ]
  },
  {
   "cell_type": "code",
   "execution_count": 25,
   "metadata": {},
   "outputs": [
    {
     "data": {
      "text/plain": [
       "{'A2': 71.35031102042569,\n",
       " 'A3': 25.854124379795604,\n",
       " 'A8': 13.675535600625327,\n",
       " 'A11': 18.320547522636208,\n",
       " 'A15': 12740.850618383236}"
      ]
     },
     "execution_count": 25,
     "metadata": {},
     "output_type": "execute_result"
    }
   ],
   "source": [
    "# 6 Let's fit the EndTailImputer() to the train set so that it learns the parameters:\n",
    "imputer.fit(X_train)\n",
    "# 7 Let's inspect the learned values:\n",
    "imputer.imputer_dict_"
   ]
  },
  {
   "cell_type": "code",
   "execution_count": 26,
   "metadata": {},
   "outputs": [],
   "source": [
    "# 8 Finally let's replace the missing values\n",
    "X_train = imputer.transform(X_train)\n",
    "X_test = imputer.transform(X_test)"
   ]
  },
  {
   "cell_type": "code",
   "execution_count": 27,
   "metadata": {},
   "outputs": [
    {
     "data": {
      "text/plain": [
       "A2     0\n",
       "A3     0\n",
       "A8     0\n",
       "A11    0\n",
       "A15    0\n",
       "dtype: int64"
      ]
     },
     "execution_count": 27,
     "metadata": {},
     "output_type": "execute_result"
    }
   ],
   "source": [
    "\n",
    "X_train[['A2', 'A3', 'A8', 'A11', 'A15']].isnull().sum()"
   ]
  },
  {
   "attachments": {},
   "cell_type": "markdown",
   "metadata": {},
   "source": [
    "### **How it works**"
   ]
  },
  {
   "attachments": {},
   "cell_type": "markdown",
   "metadata": {},
   "source": [
    "In this recipe, **we replaced the missing values in numerical variables with a value at the end of the distribution using pandas and Feature-engine**. These values were **calculated using the IQR proximity rule or the mean and standard deviation**. First, we loaded the data and divided it into train and test sets using `train_test_split()`, as described in the Performing mean or median imputation recipe."
   ]
  },
  {
   "attachments": {},
   "cell_type": "markdown",
   "metadata": {},
   "source": [
    "## **Implementation random sample imputation**"
   ]
  },
  {
   "attachments": {},
   "cell_type": "markdown",
   "metadata": {},
   "source": [
    "**Random sampling imputation consists of extracting random observations from the pool of available values in the variable**. Random sampling imputation preserves the original distribution, which differs from the other imputation techniques we've discussed in this chapter and is suitable for numerical and categorical variables alike."
   ]
  },
  {
   "attachments": {},
   "cell_type": "markdown",
   "metadata": {},
   "source": [
    "### **How to do it**"
   ]
  },
  {
   "cell_type": "code",
   "execution_count": 29,
   "metadata": {},
   "outputs": [
    {
     "data": {
      "text/plain": [
       "11"
      ]
     },
     "execution_count": 29,
     "metadata": {},
     "output_type": "execute_result"
    }
   ],
   "source": [
    "# 1 Let's imoport the libs\n",
    "import pandas as pd\n",
    "from sklearn.model_selection import train_test_split\n",
    "from feature_engine.imputation import RandomSampleImputer\n",
    "# 2 Let's load the dataset\n",
    "data = pd.read_csv('../data/creditApprovalUCI.csv')\n",
    "# 3 The random values that will be used to replace missing data\n",
    "# should be extracted from the train set, so let's separate the\n",
    "# data into train and test sets\n",
    "X_train, X_test, y_train, y_test = train_test_split(data.drop('A16', axis=1), data['A16'], test_size=.3, random_state=0)\n",
    "# 4 Let's calculate the number of missing values in the A2 variable\n",
    "number_na = X_train['A2'].isnull().sum()\n",
    "number_na"
   ]
  },
  {
   "cell_type": "code",
   "execution_count": 30,
   "metadata": {},
   "outputs": [],
   "source": [
    "# 5 Let's extract 11 values at random from A2 for the imputation\n",
    "random_sample_train = X_train['A2'].dropna().sample(number_na, random_state=0)\n",
    "# 6 We can only use one pandas Series to replace values in another pandas\n",
    "# Series if their indexes are identical, so let's re-index the extracted\n",
    "# random values so that they match the index of the missing values in the\n",
    "# original dataframe:\n",
    "random_sample_train.index = X_train[X_train['A2'].isnull()].index\n",
    "# 7 Now let's replace the missing values in the original dataset with randomly\n",
    "# extracted values\n",
    "X_train.loc[X_train['A2'].isnull(), 'A2'] = random_sample_train\n",
    "# 8 Now, let's combine step 4 to step 7 in a loop to replace the missing data\n",
    "# in the variables in various train and test sets:\n",
    "for var in ['A1', 'A3', 'A4', 'A5', 'A6', 'A7', 'A8']:\n",
    "    # extract a random sample\n",
    "    random_sample_train = X_train[var].dropna().sample(X_train[var].isnull().sum(), random_state=0)\n",
    "    random_sample_test = X_train[var].dropna().sample(X_test[var].isnull().sum(), random_state=0)\n",
    "    # re-index the randomly extracted sample\n",
    "    random_sample_train.index = X_train[X_train[var].isnull()].index\n",
    "    random_sample_test.index = X_test[X_test[var].isnull()].index\n",
    "    # replace the NA\n",
    "    X_train.loc[X_train[var].isnull(), var] = random_sample_train\n",
    "    X_test.loc[X_test[var].isnull(), var] = random_sample_test"
   ]
  },
  {
   "attachments": {},
   "cell_type": "markdown",
   "metadata": {},
   "source": [
    "> Note how we always extract values from the train set, but we calculate the number of missing values and the index using the train or test sets, respectively.\n",
    "\n",
    "To finish, let's impute missing values using Feature-engine. First, we need to separate the data into train and test, just like we did in step 3 of this recipe."
   ]
  },
  {
   "cell_type": "code",
   "execution_count": 31,
   "metadata": {},
   "outputs": [
    {
     "data": {
      "text/html": [
       "<style>#sk-container-id-2 {color: black;background-color: white;}#sk-container-id-2 pre{padding: 0;}#sk-container-id-2 div.sk-toggleable {background-color: white;}#sk-container-id-2 label.sk-toggleable__label {cursor: pointer;display: block;width: 100%;margin-bottom: 0;padding: 0.3em;box-sizing: border-box;text-align: center;}#sk-container-id-2 label.sk-toggleable__label-arrow:before {content: \"▸\";float: left;margin-right: 0.25em;color: #696969;}#sk-container-id-2 label.sk-toggleable__label-arrow:hover:before {color: black;}#sk-container-id-2 div.sk-estimator:hover label.sk-toggleable__label-arrow:before {color: black;}#sk-container-id-2 div.sk-toggleable__content {max-height: 0;max-width: 0;overflow: hidden;text-align: left;background-color: #f0f8ff;}#sk-container-id-2 div.sk-toggleable__content pre {margin: 0.2em;color: black;border-radius: 0.25em;background-color: #f0f8ff;}#sk-container-id-2 input.sk-toggleable__control:checked~div.sk-toggleable__content {max-height: 200px;max-width: 100%;overflow: auto;}#sk-container-id-2 input.sk-toggleable__control:checked~label.sk-toggleable__label-arrow:before {content: \"▾\";}#sk-container-id-2 div.sk-estimator input.sk-toggleable__control:checked~label.sk-toggleable__label {background-color: #d4ebff;}#sk-container-id-2 div.sk-label input.sk-toggleable__control:checked~label.sk-toggleable__label {background-color: #d4ebff;}#sk-container-id-2 input.sk-hidden--visually {border: 0;clip: rect(1px 1px 1px 1px);clip: rect(1px, 1px, 1px, 1px);height: 1px;margin: -1px;overflow: hidden;padding: 0;position: absolute;width: 1px;}#sk-container-id-2 div.sk-estimator {font-family: monospace;background-color: #f0f8ff;border: 1px dotted black;border-radius: 0.25em;box-sizing: border-box;margin-bottom: 0.5em;}#sk-container-id-2 div.sk-estimator:hover {background-color: #d4ebff;}#sk-container-id-2 div.sk-parallel-item::after {content: \"\";width: 100%;border-bottom: 1px solid gray;flex-grow: 1;}#sk-container-id-2 div.sk-label:hover label.sk-toggleable__label {background-color: #d4ebff;}#sk-container-id-2 div.sk-serial::before {content: \"\";position: absolute;border-left: 1px solid gray;box-sizing: border-box;top: 0;bottom: 0;left: 50%;z-index: 0;}#sk-container-id-2 div.sk-serial {display: flex;flex-direction: column;align-items: center;background-color: white;padding-right: 0.2em;padding-left: 0.2em;position: relative;}#sk-container-id-2 div.sk-item {position: relative;z-index: 1;}#sk-container-id-2 div.sk-parallel {display: flex;align-items: stretch;justify-content: center;background-color: white;position: relative;}#sk-container-id-2 div.sk-item::before, #sk-container-id-2 div.sk-parallel-item::before {content: \"\";position: absolute;border-left: 1px solid gray;box-sizing: border-box;top: 0;bottom: 0;left: 50%;z-index: -1;}#sk-container-id-2 div.sk-parallel-item {display: flex;flex-direction: column;z-index: 1;position: relative;background-color: white;}#sk-container-id-2 div.sk-parallel-item:first-child::after {align-self: flex-end;width: 50%;}#sk-container-id-2 div.sk-parallel-item:last-child::after {align-self: flex-start;width: 50%;}#sk-container-id-2 div.sk-parallel-item:only-child::after {width: 0;}#sk-container-id-2 div.sk-dashed-wrapped {border: 1px dashed gray;margin: 0 0.4em 0.5em 0.4em;box-sizing: border-box;padding-bottom: 0.4em;background-color: white;}#sk-container-id-2 div.sk-label label {font-family: monospace;font-weight: bold;display: inline-block;line-height: 1.2em;}#sk-container-id-2 div.sk-label-container {text-align: center;}#sk-container-id-2 div.sk-container {/* jupyter's `normalize.less` sets `[hidden] { display: none; }` but bootstrap.min.css set `[hidden] { display: none !important; }` so we also need the `!important` here to be able to override the default hidden behavior on the sphinx rendered scikit-learn.org. See: https://github.com/scikit-learn/scikit-learn/issues/21755 */display: inline-block !important;position: relative;}#sk-container-id-2 div.sk-text-repr-fallback {display: none;}</style><div id=\"sk-container-id-2\" class=\"sk-top-container\"><div class=\"sk-text-repr-fallback\"><pre>RandomSampleImputer()</pre><b>In a Jupyter environment, please rerun this cell to show the HTML representation or trust the notebook. <br />On GitHub, the HTML representation is unable to render, please try loading this page with nbviewer.org.</b></div><div class=\"sk-container\" hidden><div class=\"sk-item\"><div class=\"sk-estimator sk-toggleable\"><input class=\"sk-toggleable__control sk-hidden--visually\" id=\"sk-estimator-id-2\" type=\"checkbox\" checked><label for=\"sk-estimator-id-2\" class=\"sk-toggleable__label sk-toggleable__label-arrow\">RandomSampleImputer</label><div class=\"sk-toggleable__content\"><pre>RandomSampleImputer()</pre></div></div></div></div></div>"
      ],
      "text/plain": [
       "RandomSampleImputer()"
      ]
     },
     "execution_count": 31,
     "metadata": {},
     "output_type": "execute_result"
    }
   ],
   "source": [
    "# 9 Next, let's set up RandomSamplemputer() and fit it to the train set:\n",
    "imputer = RandomSampleImputer()\n",
    "imputer.fit(X_train)"
   ]
  },
  {
   "attachments": {},
   "cell_type": "markdown",
   "metadata": {},
   "source": [
    "> `RandomSampleImputer()` will replace the values in all variables in the dataset by default.\n",
    "\n",
    "We can specify the variables to impute by passing variable names in a list to the imputer using `imputer = RandomSampleImputer(variables = ['A2', 'A3'])`."
   ]
  },
  {
   "cell_type": "code",
   "execution_count": 32,
   "metadata": {},
   "outputs": [],
   "source": [
    "# 10 Finally, let's replace the missing values:\n",
    "X_train = imputer.transform(X_train)\n",
    "X_test = imputer.transform(X_test)"
   ]
  },
  {
   "attachments": {},
   "cell_type": "markdown",
   "metadata": {},
   "source": [
    "## **Adding a missing value indicator variable**"
   ]
  },
  {
   "attachments": {},
   "cell_type": "markdown",
   "metadata": {},
   "source": [
    "**A missing indicator is a binary variable that specifies whether a value was missing for an observation ($1$) or not ($0$)**. **It is common practice to replace missing observations by the mean, median, or mode while flagging those missing observations with a missing indicator, thus covering two angles: if the data was missing at random, this would be contemplated by the mean, median, or mode imputation, and if it wasn't, this would be captured by the missing indicator**. In this recipe, we will learn how to add missing indicators using NumPy, scikit-learn, and Feature-engine"
   ]
  },
  {
   "attachments": {},
   "cell_type": "markdown",
   "metadata": {},
   "source": [
    "### **Getting ready**"
   ]
  },
  {
   "attachments": {},
   "cell_type": "markdown",
   "metadata": {},
   "source": [
    "For an example of the implementation of missing indicators, along with mean imputation, check out the Winning the *KDD Cup Orange Challenge with Ensemble Selection* article, which was the winning solution in the KDD 2009 cup: http://www.mtome.com/Publications/CiML/CiML-v3-book.pdf."
   ]
  },
  {
   "attachments": {},
   "cell_type": "markdown",
   "metadata": {},
   "source": [
    "### **How to do it**"
   ]
  },
  {
   "cell_type": "code",
   "execution_count": 14,
   "metadata": {},
   "outputs": [
    {
     "data": {
      "text/html": [
       "<div>\n",
       "<style scoped>\n",
       "    .dataframe tbody tr th:only-of-type {\n",
       "        vertical-align: middle;\n",
       "    }\n",
       "\n",
       "    .dataframe tbody tr th {\n",
       "        vertical-align: top;\n",
       "    }\n",
       "\n",
       "    .dataframe thead th {\n",
       "        text-align: right;\n",
       "    }\n",
       "</style>\n",
       "<table border=\"1\" class=\"dataframe\">\n",
       "  <thead>\n",
       "    <tr style=\"text-align: right;\">\n",
       "      <th></th>\n",
       "      <th>A1</th>\n",
       "      <th>A2</th>\n",
       "      <th>A3</th>\n",
       "      <th>A4</th>\n",
       "      <th>A5</th>\n",
       "      <th>A6</th>\n",
       "      <th>A7</th>\n",
       "      <th>A8</th>\n",
       "      <th>A9</th>\n",
       "      <th>A10</th>\n",
       "      <th>...</th>\n",
       "      <th>A13</th>\n",
       "      <th>A14</th>\n",
       "      <th>A15</th>\n",
       "      <th>A1_NA</th>\n",
       "      <th>A3_NA</th>\n",
       "      <th>A4_NA</th>\n",
       "      <th>A5_NA</th>\n",
       "      <th>A6_NA</th>\n",
       "      <th>A7_NA</th>\n",
       "      <th>A8_NA</th>\n",
       "    </tr>\n",
       "  </thead>\n",
       "  <tbody>\n",
       "    <tr>\n",
       "      <th>596</th>\n",
       "      <td>a</td>\n",
       "      <td>46.08</td>\n",
       "      <td>3.000</td>\n",
       "      <td>u</td>\n",
       "      <td>g</td>\n",
       "      <td>c</td>\n",
       "      <td>v</td>\n",
       "      <td>2.375</td>\n",
       "      <td>t</td>\n",
       "      <td>t</td>\n",
       "      <td>...</td>\n",
       "      <td>g</td>\n",
       "      <td>396.0</td>\n",
       "      <td>4159</td>\n",
       "      <td>0</td>\n",
       "      <td>0</td>\n",
       "      <td>0</td>\n",
       "      <td>0</td>\n",
       "      <td>0</td>\n",
       "      <td>0</td>\n",
       "      <td>0</td>\n",
       "    </tr>\n",
       "    <tr>\n",
       "      <th>303</th>\n",
       "      <td>a</td>\n",
       "      <td>15.92</td>\n",
       "      <td>2.875</td>\n",
       "      <td>u</td>\n",
       "      <td>g</td>\n",
       "      <td>q</td>\n",
       "      <td>v</td>\n",
       "      <td>0.085</td>\n",
       "      <td>f</td>\n",
       "      <td>f</td>\n",
       "      <td>...</td>\n",
       "      <td>g</td>\n",
       "      <td>120.0</td>\n",
       "      <td>0</td>\n",
       "      <td>0</td>\n",
       "      <td>0</td>\n",
       "      <td>0</td>\n",
       "      <td>0</td>\n",
       "      <td>0</td>\n",
       "      <td>0</td>\n",
       "      <td>0</td>\n",
       "    </tr>\n",
       "    <tr>\n",
       "      <th>204</th>\n",
       "      <td>b</td>\n",
       "      <td>36.33</td>\n",
       "      <td>2.125</td>\n",
       "      <td>y</td>\n",
       "      <td>p</td>\n",
       "      <td>w</td>\n",
       "      <td>v</td>\n",
       "      <td>0.085</td>\n",
       "      <td>t</td>\n",
       "      <td>t</td>\n",
       "      <td>...</td>\n",
       "      <td>g</td>\n",
       "      <td>50.0</td>\n",
       "      <td>1187</td>\n",
       "      <td>0</td>\n",
       "      <td>0</td>\n",
       "      <td>0</td>\n",
       "      <td>0</td>\n",
       "      <td>0</td>\n",
       "      <td>0</td>\n",
       "      <td>0</td>\n",
       "    </tr>\n",
       "    <tr>\n",
       "      <th>351</th>\n",
       "      <td>b</td>\n",
       "      <td>22.17</td>\n",
       "      <td>0.585</td>\n",
       "      <td>y</td>\n",
       "      <td>p</td>\n",
       "      <td>ff</td>\n",
       "      <td>ff</td>\n",
       "      <td>0.000</td>\n",
       "      <td>f</td>\n",
       "      <td>f</td>\n",
       "      <td>...</td>\n",
       "      <td>g</td>\n",
       "      <td>100.0</td>\n",
       "      <td>0</td>\n",
       "      <td>0</td>\n",
       "      <td>0</td>\n",
       "      <td>0</td>\n",
       "      <td>0</td>\n",
       "      <td>0</td>\n",
       "      <td>0</td>\n",
       "      <td>0</td>\n",
       "    </tr>\n",
       "    <tr>\n",
       "      <th>118</th>\n",
       "      <td>b</td>\n",
       "      <td>57.83</td>\n",
       "      <td>7.040</td>\n",
       "      <td>u</td>\n",
       "      <td>g</td>\n",
       "      <td>m</td>\n",
       "      <td>v</td>\n",
       "      <td>14.000</td>\n",
       "      <td>t</td>\n",
       "      <td>t</td>\n",
       "      <td>...</td>\n",
       "      <td>g</td>\n",
       "      <td>360.0</td>\n",
       "      <td>1332</td>\n",
       "      <td>0</td>\n",
       "      <td>0</td>\n",
       "      <td>0</td>\n",
       "      <td>0</td>\n",
       "      <td>0</td>\n",
       "      <td>0</td>\n",
       "      <td>0</td>\n",
       "    </tr>\n",
       "  </tbody>\n",
       "</table>\n",
       "<p>5 rows × 22 columns</p>\n",
       "</div>"
      ],
      "text/plain": [
       "    A1     A2     A3 A4 A5  A6  A7      A8 A9 A10  ...  A13    A14   A15  \\\n",
       "596  a  46.08  3.000  u  g   c   v   2.375  t   t  ...    g  396.0  4159   \n",
       "303  a  15.92  2.875  u  g   q   v   0.085  f   f  ...    g  120.0     0   \n",
       "204  b  36.33  2.125  y  p   w   v   0.085  t   t  ...    g   50.0  1187   \n",
       "351  b  22.17  0.585  y  p  ff  ff   0.000  f   f  ...    g  100.0     0   \n",
       "118  b  57.83  7.040  u  g   m   v  14.000  t   t  ...    g  360.0  1332   \n",
       "\n",
       "     A1_NA  A3_NA  A4_NA  A5_NA  A6_NA  A7_NA  A8_NA  \n",
       "596      0      0      0      0      0      0      0  \n",
       "303      0      0      0      0      0      0      0  \n",
       "204      0      0      0      0      0      0      0  \n",
       "351      0      0      0      0      0      0      0  \n",
       "118      0      0      0      0      0      0      0  \n",
       "\n",
       "[5 rows x 22 columns]"
      ]
     },
     "execution_count": 14,
     "metadata": {},
     "output_type": "execute_result"
    }
   ],
   "source": [
    "# 1 Let's import the required libs\n",
    "import pandas as pd\n",
    "import numpy as np\n",
    "from sklearn.model_selection import train_test_split\n",
    "from sklearn.impute import MissingIndicator\n",
    "from feature_engine.imputation import AddMissingIndicator\n",
    "# 2 Let's separate the data into and tes sets\n",
    "data = pd.read_csv('../data/creditApprovalUCI.csv')\n",
    "# 3 Let's separate the data into train and test sets:\n",
    "X_train, X_test, y_train, y_test = train_test_split(data.drop('A16', axis=1), data['A16'], test_size=0.3, random_state=0)\n",
    "# 4 Using NumPy, we'll add a missing indicator to the numerical and categorical variables in a loop:\n",
    "for var in ['A1', 'A3', 'A4', 'A5', 'A6', 'A7', 'A8']:\n",
    "    X_train[var + '_NA'] = np.where(X_train[var].isnull(), 1, 0)\n",
    "    X_test[var + '_NA'] = np.where(X_test[var].isnull(), 1, 0)\n",
    "# 5 Let's inspect the result of the preceding code block:\n",
    "X_train.head()"
   ]
  },
  {
   "attachments": {},
   "cell_type": "markdown",
   "metadata": {},
   "source": [
    "Now, let's add missing indicators using Feature-engine instead. First, we need to load and divide the data, just like we did in step 2 and step 3 of this recipe."
   ]
  },
  {
   "cell_type": "code",
   "execution_count": 15,
   "metadata": {},
   "outputs": [],
   "source": [
    "# 6 Next, let's set up a transformer that will add binary indicators to all the variables in the dataset using AddNaNBinaryImputer() from Feature-engine:\n",
    "imputer = AddMissingIndicator()"
   ]
  },
  {
   "attachments": {},
   "cell_type": "markdown",
   "metadata": {},
   "source": [
    "> We can specify the variables which should have missing indicators by passing the variable names in a list: `imputer = AddMissingIndicator(variables = ['A2', 'A3'])`. Alternatively, the imputer will add indicators to all the variables."
   ]
  },
  {
   "cell_type": "code",
   "execution_count": 16,
   "metadata": {},
   "outputs": [],
   "source": [
    "# 7 Let's fit AddNaNBinaryImputer() to the train set:\n",
    "imputer.fit(X_train)\n",
    "# 8 Finally, let's add the missing indicators:\n",
    "X_train = imputer.transform(X_train)\n",
    "X_test = imputer.transform(X_test)"
   ]
  },
  {
   "attachments": {},
   "cell_type": "markdown",
   "metadata": {},
   "source": [
    "> We can inspect the result using `X_train.head()`; it should be similar to the output of step 5 in this recipe."
   ]
  },
  {
   "cell_type": "code",
   "execution_count": 17,
   "metadata": {},
   "outputs": [
    {
     "data": {
      "text/html": [
       "<style>#sk-container-id-2 {color: black;background-color: white;}#sk-container-id-2 pre{padding: 0;}#sk-container-id-2 div.sk-toggleable {background-color: white;}#sk-container-id-2 label.sk-toggleable__label {cursor: pointer;display: block;width: 100%;margin-bottom: 0;padding: 0.3em;box-sizing: border-box;text-align: center;}#sk-container-id-2 label.sk-toggleable__label-arrow:before {content: \"▸\";float: left;margin-right: 0.25em;color: #696969;}#sk-container-id-2 label.sk-toggleable__label-arrow:hover:before {color: black;}#sk-container-id-2 div.sk-estimator:hover label.sk-toggleable__label-arrow:before {color: black;}#sk-container-id-2 div.sk-toggleable__content {max-height: 0;max-width: 0;overflow: hidden;text-align: left;background-color: #f0f8ff;}#sk-container-id-2 div.sk-toggleable__content pre {margin: 0.2em;color: black;border-radius: 0.25em;background-color: #f0f8ff;}#sk-container-id-2 input.sk-toggleable__control:checked~div.sk-toggleable__content {max-height: 200px;max-width: 100%;overflow: auto;}#sk-container-id-2 input.sk-toggleable__control:checked~label.sk-toggleable__label-arrow:before {content: \"▾\";}#sk-container-id-2 div.sk-estimator input.sk-toggleable__control:checked~label.sk-toggleable__label {background-color: #d4ebff;}#sk-container-id-2 div.sk-label input.sk-toggleable__control:checked~label.sk-toggleable__label {background-color: #d4ebff;}#sk-container-id-2 input.sk-hidden--visually {border: 0;clip: rect(1px 1px 1px 1px);clip: rect(1px, 1px, 1px, 1px);height: 1px;margin: -1px;overflow: hidden;padding: 0;position: absolute;width: 1px;}#sk-container-id-2 div.sk-estimator {font-family: monospace;background-color: #f0f8ff;border: 1px dotted black;border-radius: 0.25em;box-sizing: border-box;margin-bottom: 0.5em;}#sk-container-id-2 div.sk-estimator:hover {background-color: #d4ebff;}#sk-container-id-2 div.sk-parallel-item::after {content: \"\";width: 100%;border-bottom: 1px solid gray;flex-grow: 1;}#sk-container-id-2 div.sk-label:hover label.sk-toggleable__label {background-color: #d4ebff;}#sk-container-id-2 div.sk-serial::before {content: \"\";position: absolute;border-left: 1px solid gray;box-sizing: border-box;top: 0;bottom: 0;left: 50%;z-index: 0;}#sk-container-id-2 div.sk-serial {display: flex;flex-direction: column;align-items: center;background-color: white;padding-right: 0.2em;padding-left: 0.2em;position: relative;}#sk-container-id-2 div.sk-item {position: relative;z-index: 1;}#sk-container-id-2 div.sk-parallel {display: flex;align-items: stretch;justify-content: center;background-color: white;position: relative;}#sk-container-id-2 div.sk-item::before, #sk-container-id-2 div.sk-parallel-item::before {content: \"\";position: absolute;border-left: 1px solid gray;box-sizing: border-box;top: 0;bottom: 0;left: 50%;z-index: -1;}#sk-container-id-2 div.sk-parallel-item {display: flex;flex-direction: column;z-index: 1;position: relative;background-color: white;}#sk-container-id-2 div.sk-parallel-item:first-child::after {align-self: flex-end;width: 50%;}#sk-container-id-2 div.sk-parallel-item:last-child::after {align-self: flex-start;width: 50%;}#sk-container-id-2 div.sk-parallel-item:only-child::after {width: 0;}#sk-container-id-2 div.sk-dashed-wrapped {border: 1px dashed gray;margin: 0 0.4em 0.5em 0.4em;box-sizing: border-box;padding-bottom: 0.4em;background-color: white;}#sk-container-id-2 div.sk-label label {font-family: monospace;font-weight: bold;display: inline-block;line-height: 1.2em;}#sk-container-id-2 div.sk-label-container {text-align: center;}#sk-container-id-2 div.sk-container {/* jupyter's `normalize.less` sets `[hidden] { display: none; }` but bootstrap.min.css set `[hidden] { display: none !important; }` so we also need the `!important` here to be able to override the default hidden behavior on the sphinx rendered scikit-learn.org. See: https://github.com/scikit-learn/scikit-learn/issues/21755 */display: inline-block !important;position: relative;}#sk-container-id-2 div.sk-text-repr-fallback {display: none;}</style><div id=\"sk-container-id-2\" class=\"sk-top-container\"><div class=\"sk-text-repr-fallback\"><pre>MissingIndicator()</pre><b>In a Jupyter environment, please rerun this cell to show the HTML representation or trust the notebook. <br />On GitHub, the HTML representation is unable to render, please try loading this page with nbviewer.org.</b></div><div class=\"sk-container\" hidden><div class=\"sk-item\"><div class=\"sk-estimator sk-toggleable\"><input class=\"sk-toggleable__control sk-hidden--visually\" id=\"sk-estimator-id-2\" type=\"checkbox\" checked><label for=\"sk-estimator-id-2\" class=\"sk-toggleable__label sk-toggleable__label-arrow\">MissingIndicator</label><div class=\"sk-toggleable__content\"><pre>MissingIndicator()</pre></div></div></div></div></div>"
      ],
      "text/plain": [
       "MissingIndicator()"
      ]
     },
     "execution_count": 17,
     "metadata": {},
     "output_type": "execute_result"
    }
   ],
   "source": [
    "# 9 Next, we'll set up a MissingIndicator(). Here, we will add indicators only to variables with missing data:\n",
    "indicator = MissingIndicator(features='missing-only')\n",
    "# 10 Let's fit the transformer so that it finds the variables with missing data in the train set:\n",
    "indicator.fit(X_train) "
   ]
  },
  {
   "attachments": {},
   "cell_type": "markdown",
   "metadata": {},
   "source": [
    "Now, we can concatenate the missing indicators that were created by `MissingIndicator()` to the train set."
   ]
  },
  {
   "cell_type": "code",
   "execution_count": 18,
   "metadata": {},
   "outputs": [],
   "source": [
    "# 11 First, let's create a column name for each of the new missing indicators with a list comprehension:\n",
    "indicator_cols = [c + '_NA' for c in X_train.columns[indicator.features_]]"
   ]
  },
  {
   "attachments": {},
   "cell_type": "markdown",
   "metadata": {},
   "source": [
    "The `features_` attribute contains the indices of the features for which missing indicators will be added. If we pass these indices to the train set column array, we can get the variable names."
   ]
  },
  {
   "cell_type": "code",
   "execution_count": 19,
   "metadata": {},
   "outputs": [],
   "source": [
    "# 12 Next, let's concatenate the original train set with the missing indicators, which we obtain using the transform method:\n",
    "X_train = pd.concat([\n",
    "    X_train.reset_index(),\n",
    "    pd.DataFrame(indicator.transform(X_train), columns=indicator_cols)],\n",
    "    axis=1)"
   ]
  },
  {
   "attachments": {},
   "cell_type": "markdown",
   "metadata": {},
   "source": [
    "> Scikit-learn transformers return NumPy arrays, so to concatenate them into a dataframe, we must cast it as a dataframe using pandas `DataFrame()`.\n",
    "\n",
    "The result of the preceding code block should contain the original variables, plus the indicators."
   ]
  },
  {
   "attachments": {},
   "cell_type": "markdown",
   "metadata": {},
   "source": [
    "## **Performing multivariate imputation by chained equations**"
   ]
  },
  {
   "attachments": {},
   "cell_type": "markdown",
   "metadata": {},
   "source": [
    "Multivariate imputation methods, as opposed to univariate imputation, use the entire set of variables to estimate the missing values. In other words, **the missing values of a variable are modeled based on the other variables in the dataset**. **Multivariate imputation by chained equations (MICE)** is a multiple imputation technique that models each variable with missing values as a function of the remaining variables and uses that estimate for imputation. MICE has the following basic steps:\n",
    "\n",
    "1. A simple univariate imputation is performed for every variable with missing data, for example, **median imputation**.\n",
    "2. One specific variable is selected, say,` var_1`, and the missing values are set back to missing.\n",
    "3. **A model that's used to predict** `var_1` **is built based on the remaining variables** in the dataset.\n",
    "4. The **missing values** of `var_1` are **replaced with the new estimates**.\n",
    "5. Repeat step 2 to step 4 for each of the remaining variables.\n",
    "\n",
    "Once all the variables have been modeled based on the rest, a cycle of imputation is concluded. Step 2 to step 4 are performed multiple times, typically 10 times, and the imputation values after each round are retained. The idea is that, by the end of the cycles, the distribution of the imputation parameters should have converged.\n",
    "\n",
    "> Each variable with missing data can be modeled based on the remaining variable by using multiple approaches, for example, linear regression, Bayes, decision trees, k-nearest neighbors, and random forests."
   ]
  },
  {
   "attachments": {},
   "cell_type": "markdown",
   "metadata": {},
   "source": [
    "### **Getting ready**"
   ]
  },
  {
   "attachments": {},
   "cell_type": "markdown",
   "metadata": {},
   "source": [
    "To learn more about MICE, take a look at the following links:\n",
    "\n",
    "* *A multivariate technique for multiplying imputing missing values using a sequence of regression models*: http://citeseerx.ist.psu.edu/viewdoc/download?doi=10.1.1.405.4540&rep=rep1&type=pdf\n",
    "\n",
    "* *Multiple Imputation by Chained Equations: What is it and how does it work?*: https://www.ncbi.nlm.nih.gov/pmc/articles/PMC3074241/\n",
    "\n",
    "We will perform MICE imputation using `IterativeImputer()` from scikit-learn: https://scikit-learn.org/stable/modules/generated/sklearn.impute.IterativeImputer.html#sklearn.impute.IterativeImputer."
   ]
  },
  {
   "attachments": {},
   "cell_type": "markdown",
   "metadata": {},
   "source": [
    "### **How to do it**"
   ]
  },
  {
   "cell_type": "code",
   "execution_count": 21,
   "metadata": {},
   "outputs": [],
   "source": [
    "# 1 Let's import the required python libs\n",
    "import pandas as pd\n",
    "from sklearn.linear_model import BayesianRidge\n",
    "from sklearn.model_selection import train_test_split\n",
    "from sklearn.experimental import enable_iterative_imputer\n",
    "from sklearn.impute import IterativeImputer\n",
    "\n",
    "# 2 Load the dataset with some numerical variables\n",
    "variables = ['A2', 'A3', 'A8', 'A11', 'A14', 'A16']\n",
    "data = pd.read_csv('../data/creditApprovalUCI.csv', usecols=variables)\n",
    "\n",
    "\"\"\"\n",
    "The models that will be used to estimate missing values should be built\n",
    "on the train data and used to impute values in the train, test, and\n",
    "future data:\n",
    "\"\"\"\n",
    "# 3 Let's divide the data into train and test sets\n",
    "X_train, X_test, y_train, y_test = train_test_split(data.drop('A16', axis=1), data['A16'], test_size=.3, random_state=0)\n",
    "# 4 let's create a MICE imputer using Bayes regression as an estimator, specifying\n",
    "# the number of iteration cycles and setting random_state for reproductibility\n",
    "imputer = IterativeImputer(estimator=BayesianRidge(), max_iter=10, random_state=0)"
   ]
  },
  {
   "attachments": {},
   "cell_type": "markdown",
   "metadata": {},
   "source": [
    "> `IterativeImputer()` contains other useful arguments. For example, we can specify **the first imputation strategy using the initial_strategy parameter** and **specify how we want to cycle over the variables either randomly**, or **from the one with the fewest missing values to the one with the most**."
   ]
  },
  {
   "cell_type": "code",
   "execution_count": 22,
   "metadata": {},
   "outputs": [],
   "source": [
    "# 5 Let's fit IterativeImputer to the train set so that it trains the estimators\n",
    "# to predict the missing values in each variable\n",
    "imputer.fit(X_train)\n",
    "\n",
    "# 6 Finally, let's fill in missing values in both train and test set\n",
    "X_train = imputer.transform(X_train)\n",
    "X_test = imputer.transform(X_test)\n",
    "# Remember that scikit-learn returns NumPy arrays and not dataframes."
   ]
  },
  {
   "attachments": {},
   "cell_type": "markdown",
   "metadata": {},
   "source": [
    "### **How it works**"
   ]
  },
  {
   "attachments": {},
   "cell_type": "markdown",
   "metadata": {},
   "source": [
    "In this recipe, we performed MICE using `IterativeImputer()` from scikit-learn. First, we loaded data using pandas `read_csv()` and separated it into train and test sets using scikit-learn's `train_test_split()`. Next, we created a multivariate imputation object using the `IterativeImputer()` from scikit-learn. We specified that we wanted to estimate missing values using Bayes regression and that we wanted to carry out 10 rounds of imputation over the entire dataset. We fitted `IterativeImputer()` to the train set so that each variable was modeled based on the remaining variables in the dataset. Next, we transformed the train and test sets with the `transform()` method in order to replace missing data with their estimates."
   ]
  },
  {
   "attachments": {},
   "cell_type": "markdown",
   "metadata": {},
   "source": [
    "### **There's more**"
   ]
  },
  {
   "attachments": {},
   "cell_type": "markdown",
   "metadata": {},
   "source": [
    "Using `IterativeImputer()` from scikit-learn, we can model variables using multiple algorithms, such as Bayes, knn, decision trees and random forests."
   ]
  },
  {
   "cell_type": "code",
   "execution_count": 23,
   "metadata": {},
   "outputs": [
    {
     "name": "stderr",
     "output_type": "stream",
     "text": [
      "c:\\Users\\HP\\miniconda3\\envs\\sklearn\\lib\\site-packages\\sklearn\\impute\\_iterative.py:713: ConvergenceWarning: [IterativeImputer] Early stopping criterion not reached.\n",
      "  warnings.warn(\n",
      "c:\\Users\\HP\\miniconda3\\envs\\sklearn\\lib\\site-packages\\sklearn\\impute\\_iterative.py:713: ConvergenceWarning: [IterativeImputer] Early stopping criterion not reached.\n",
      "  warnings.warn(\n"
     ]
    },
    {
     "data": {
      "image/png": "[encoded data removed]",
      "text/plain": [
       "<Figure size 640x480 with 1 Axes>"
      ]
     },
     "metadata": {},
     "output_type": "display_data"
    }
   ],
   "source": [
    "# 1 Import the libs\n",
    "import pandas as pd\n",
    "import matplotlib.pyplot as plt\n",
    "from sklearn.model_selection import train_test_split\n",
    "from sklearn.linear_model import BayesianRidge\n",
    "from sklearn.tree import DecisionTreeRegressor\n",
    "from sklearn.ensemble import ExtraTreesRegressor\n",
    "from sklearn.neighbors import KNeighborsRegressor\n",
    "\n",
    "# 2 Load the data and separate the train and test sets\n",
    "variables = ['A2','A3','A8', 'A11', 'A14', 'A15', 'A16']\n",
    "data = pd.read_csv('../data/creditApprovalUCI.csv', usecols=variables)\n",
    "X_train, X_test, y_train, y_test = train_test_split(data.drop('A16', axis=1), data['A16'], test_size=0.3, random_state=0)\n",
    "\n",
    "# 3 Buid MICE using different modeling strategies\n",
    "imputer_bayes = IterativeImputer(\n",
    "    estimator=BayesianRidge(),\n",
    "    max_iter=10,\n",
    "    random_state=0)\n",
    "\n",
    "imputer_knn = IterativeImputer(\n",
    "    estimator=KNeighborsRegressor(n_neighbors=5),\n",
    "    max_iter=10,\n",
    "    random_state=0)\n",
    "\n",
    "imputer_nonLin = IterativeImputer(\n",
    "    estimator=DecisionTreeRegressor(\n",
    "        max_features='sqrt', random_state=0),\n",
    "    max_iter=10,\n",
    "    random_state=0)\n",
    "\n",
    "imputer_missForest = IterativeImputer(\n",
    "    estimator=ExtraTreesRegressor(\n",
    "        n_estimators=10, random_state=0),\n",
    "    max_iter=10,\n",
    "    random_state=0)\n",
    "\n",
    "\"\"\"\n",
    "Note how, in the preceding code block,\n",
    "we create four different MICE imputers,\n",
    "each with a different machine learning\n",
    "algorithm which will be used to model every\n",
    "variable based on the remaining variables\n",
    "in the dataset.\n",
    "\"\"\"\n",
    "\n",
    "# 4 Fit the MICE imputers to the train set:\n",
    "imputer_bayes.fit(X_train)\n",
    "imputer_knn.fit(X_train)\n",
    "imputer_nonLin.fit(X_train)\n",
    "imputer_missForest.fit(X_train)\n",
    "# 5 Impute missing values in the train set:\n",
    "X_train_bayes = imputer_bayes.transform(X_train)\n",
    "X_train_knn = imputer_knn.transform(X_train)\n",
    "X_train_nonLin = imputer_nonLin.transform(X_train)\n",
    "X_train_missForest = imputer_missForest.transform(X_train)\n",
    "# 6 Convert the NumPy arrays into dataframes:\n",
    "predictors = [var for var in variables if var !='A16']\n",
    "X_train_bayes = pd.DataFrame(X_train_bayes, columns = predictors)\n",
    "X_train_knn = pd.DataFrame(X_train_knn, columns = predictors)\n",
    "X_train_nonLin = pd.DataFrame(X_train_nonLin, columns = predictors)\n",
    "X_train_missForest = pd.DataFrame(X_train_missForest, columns = predictors)\n",
    "# 7 Plot and compare the results:\n",
    "fig = plt.figure()\n",
    "ax = fig.add_subplot(111)\n",
    "\n",
    "X_train['A3'].plot(kind='kde', ax=ax, color='blue')\n",
    "X_train_bayes['A3'].plot(kind='kde', ax=ax, color='green')\n",
    "X_train_knn['A3'].plot(kind='kde', ax=ax, color='red')\n",
    "X_train_nonLin['A3'].plot(kind='kde', ax=ax, color='black')\n",
    "X_train_missForest['A3'].plot(kind='kde', ax=ax, color='orange')\n",
    "\n",
    "# add legends\n",
    "lines, labels = ax.get_legend_handles_labels()\n",
    "labels = ['A3 original', 'A3 bayes', 'A3 knn', 'A3 Trees', 'A3 missForest']\n",
    "ax.legend(lines, labels, loc='best')\n",
    "plt.show()"
   ]
  },
  {
   "attachments": {},
   "cell_type": "markdown",
   "metadata": {},
   "source": [
    "In the preceding plot, we can see that the different algorithms return slightly different distributions of the original variable."
   ]
  },
  {
   "attachments": {},
   "cell_type": "markdown",
   "metadata": {},
   "source": [
    "## **Assembling an imputation pipeline with scikit-lean**"
   ]
  },
  {
   "attachments": {},
   "cell_type": "markdown",
   "metadata": {},
   "source": [
    "Datasets often **contain a mix of numerical and categorical variables**. In addition, **some variables may contain a few missing data points**, while **others will contain quite a big proportion**. The **mechanisms by which data is missing may also vary among variables**. Thus, **we may wish to perform different imputation procedures for different variables**. In this recipe, we will learn **how to perform different imputation procedures for different feature subsets using scikit-learn**."
   ]
  },
  {
   "attachments": {},
   "cell_type": "markdown",
   "metadata": {},
   "source": [
    "### **How to do it**"
   ]
  },
  {
   "cell_type": "code",
   "execution_count": 30,
   "metadata": {},
   "outputs": [
    {
     "data": {
      "text/plain": [
       "'\\nRemember that scikit-learn transformers return NumPy arrays. The beauty of this procedure\\nis that we can save the preprocessor in one object to perpetuate all the parameters\\nthat are learned by the different transformers\\n'"
      ]
     },
     "execution_count": 30,
     "metadata": {},
     "output_type": "execute_result"
    }
   ],
   "source": [
    "# 1 Let's import the libs\n",
    "import pandas as pd\n",
    "from sklearn.compose import ColumnTransformer\n",
    "from sklearn.pipeline import Pipeline\n",
    "from sklearn.impute import SimpleImputer\n",
    "from sklearn.model_selection import train_test_split\n",
    "\n",
    "# 2 Load the dataset\n",
    "data = pd.read_csv('../data/creditApprovalUCI.csv')\n",
    "\n",
    "# 3 Let's divide the data into train and test sets\n",
    "X_train, X_test, y_train, y_test = train_test_split(data.drop('A16', axis=1), data['A16'], test_size=.3, random_state=0)\n",
    "# 4 Let's group a subset of columns to which we want to apply different imputation\n",
    "# techniques in lits\n",
    "features_num_arbitrary = ['A3', 'A8']\n",
    "features_num_median = ['A2', 'A14']\n",
    "features_cat_frequent = ['A4', 'A5', 'A6', 'A7']\n",
    "features_cat_missing = ['A1', 'A9', 'A10']\n",
    "# 5 Let's create different imputation transformers using SimpleImputer()\n",
    "# within the scikit-learn pipeline\n",
    "imputer_num_arbitrary = Pipeline(steps=[\n",
    "    ('imputer', SimpleImputer(strategy='constant', fill_value=99)),\n",
    "])\n",
    "imputer_num_median = Pipeline(steps=[\n",
    "    ('imputer', SimpleImputer(strategy='median')),\n",
    "])\n",
    "imputer_cat_frequent = Pipeline(steps=[\n",
    "    ('imputer', SimpleImputer(strategy='most_frequent')),\n",
    "])\n",
    "imputer_cat_missing = Pipeline(steps=[\n",
    "    ('imputer', SimpleImputer(strategy='constant', fill_value='Missing')),\n",
    "])\n",
    "\n",
    "# 6 Now, let's assemble the pipelines with the imputers within \n",
    "# ColumnTransformer() and assign them to the different feature subsets we created in step 4:\n",
    "preprocessor = ColumnTransformer(transformers=[\n",
    "    ('imp_num_arbitrary', imputer_num_arbitrary, features_num_arbitrary),\n",
    "    ('imp_num_median', imputer_num_median, features_num_median),\n",
    "    ('imp_cat_frequent', imputer_cat_frequent, features_cat_frequent),\n",
    "    ('imp_cat_missing', imputer_cat_missing, features_cat_missing),\n",
    "], remainder='passthrough')\n",
    "\n",
    "# 7 Next, we need to fit the preprocessor to the train set so that the imputation parameters are learned:\n",
    "preprocessor.fit(X_train)\n",
    "\n",
    "# 8 Finally let's replace the missing values in the train and test sets:\n",
    "X_train = preprocessor.transform(X_train)\n",
    "X_test = preprocessor.transform(X_test)\n",
    "\n",
    "\"\"\"\n",
    "Remember that scikit-learn transformers return NumPy arrays. The beauty of this procedure\n",
    "is that we can save the preprocessor in one object to perpetuate all the parameters\n",
    "that are learned by the different transformers\n",
    "\"\"\""
   ]
  },
  {
   "cell_type": "code",
   "execution_count": 31,
   "metadata": {},
   "outputs": [
    {
     "data": {
      "text/plain": [
       "array([[3.0, 2.375, 46.08, ..., 't', 'g', 4159],\n",
       "       [2.875, 0.085, 15.92, ..., 'f', 'g', 0],\n",
       "       [2.125, 0.085, 36.33, ..., 'f', 'g', 1187],\n",
       "       ...,\n",
       "       [0.665, 1.665, 19.58, ..., 'f', 'g', 5],\n",
       "       [2.29, 2.29, 22.83, ..., 't', 'g', 2384],\n",
       "       [3.29, 3.5, 40.58, ..., 't', 's', 0]], dtype=object)"
      ]
     },
     "execution_count": 31,
     "metadata": {},
     "output_type": "execute_result"
    }
   ],
   "source": [
    "X_train"
   ]
  },
  {
   "attachments": {},
   "cell_type": "markdown",
   "metadata": {},
   "source": [
    "## **Assembling an imputation pipeline with Feature-engine**"
   ]
  },
  {
   "attachments": {},
   "cell_type": "markdown",
   "metadata": {},
   "source": [
    "### **How to do it**"
   ]
  },
  {
   "cell_type": "code",
   "execution_count": 27,
   "metadata": {},
   "outputs": [],
   "source": [
    "# 1 Let's import the libs\n",
    "import pandas as pd\n",
    "from sklearn.model_selection import train_test_split\n",
    "from sklearn.pipeline import Pipeline\n",
    "from feature_engine.imputation import CategoricalImputer, ArbitraryNumberImputer, MeanMedianImputer\n",
    "# 2 Let's load the dataset\n",
    "data = pd.read_csv('../data/creditApprovalUCI.csv')\n",
    "# 3 Let's divide the data into train and test sets\n",
    "X_train, X_test, y_train, y_test = train_test_split(data.drop('A16', axis=1), data['A16'], test_size=.3, random_state=0)\n",
    "# 4 Let's create lists with the names of the variables that we want to apply specific\n",
    "# imputation techniques to\n",
    "features_num_arbitrary = ['A3', 'A8']\n",
    "features_num_median = ['A2', 'A14']\n",
    "features_cat_frequent = ['A4', 'A5', 'A6', 'A7']\n",
    "features_cat_missing = ['A1', 'A9', 'A10']\n",
    "# 5 Let's assemble an arbitrary value imputer, a median imputer, a frequent category imputer, and an imputer\n",
    "# to replace any missing values with the Missing string within a scikit-learn pipeline:\n",
    "pipe = Pipeline(steps=[\n",
    "    ('imp_num_arbitrary', ArbitraryNumberImputer(\n",
    "        variables = features_num_arbitrary)),\n",
    "    ('imp_num_median', MeanMedianImputer(\n",
    "        imputation_method = 'median', variables=features_num_median)),\n",
    "    ('imp_cat_frequent', CategoricalImputer(\n",
    "        variables = features_cat_frequent)),\n",
    "    ('imp_cat_missing', CategoricalImputer(\n",
    "        variables=features_cat_missing))\n",
    "])\n",
    "# 6 Let's fit the pipeline to the train set so that each imputer learns and stores the imputation parameters:\n",
    "pipe.fit(X_train)\n",
    "# 7 Finally, let's replace missing values in the train and test sets:\n",
    "X_train = pipe.transform(X_train)\n",
    "X_test = pipe.transform(X_test)"
   ]
  },
  {
   "cell_type": "code",
   "execution_count": 28,
   "metadata": {},
   "outputs": [
    {
     "data": {
      "text/html": [
       "<div>\n",
       "<style scoped>\n",
       "    .dataframe tbody tr th:only-of-type {\n",
       "        vertical-align: middle;\n",
       "    }\n",
       "\n",
       "    .dataframe tbody tr th {\n",
       "        vertical-align: top;\n",
       "    }\n",
       "\n",
       "    .dataframe thead th {\n",
       "        text-align: right;\n",
       "    }\n",
       "</style>\n",
       "<table border=\"1\" class=\"dataframe\">\n",
       "  <thead>\n",
       "    <tr style=\"text-align: right;\">\n",
       "      <th></th>\n",
       "      <th>A1</th>\n",
       "      <th>A2</th>\n",
       "      <th>A3</th>\n",
       "      <th>A4</th>\n",
       "      <th>A5</th>\n",
       "      <th>A6</th>\n",
       "      <th>A7</th>\n",
       "      <th>A8</th>\n",
       "      <th>A9</th>\n",
       "      <th>A10</th>\n",
       "      <th>A11</th>\n",
       "      <th>A12</th>\n",
       "      <th>A13</th>\n",
       "      <th>A14</th>\n",
       "      <th>A15</th>\n",
       "    </tr>\n",
       "  </thead>\n",
       "  <tbody>\n",
       "    <tr>\n",
       "      <th>596</th>\n",
       "      <td>a</td>\n",
       "      <td>46.08</td>\n",
       "      <td>3.000</td>\n",
       "      <td>u</td>\n",
       "      <td>g</td>\n",
       "      <td>c</td>\n",
       "      <td>v</td>\n",
       "      <td>2.375</td>\n",
       "      <td>t</td>\n",
       "      <td>t</td>\n",
       "      <td>8</td>\n",
       "      <td>t</td>\n",
       "      <td>g</td>\n",
       "      <td>396.0</td>\n",
       "      <td>4159</td>\n",
       "    </tr>\n",
       "    <tr>\n",
       "      <th>303</th>\n",
       "      <td>a</td>\n",
       "      <td>15.92</td>\n",
       "      <td>2.875</td>\n",
       "      <td>u</td>\n",
       "      <td>g</td>\n",
       "      <td>q</td>\n",
       "      <td>v</td>\n",
       "      <td>0.085</td>\n",
       "      <td>f</td>\n",
       "      <td>f</td>\n",
       "      <td>0</td>\n",
       "      <td>f</td>\n",
       "      <td>g</td>\n",
       "      <td>120.0</td>\n",
       "      <td>0</td>\n",
       "    </tr>\n",
       "    <tr>\n",
       "      <th>204</th>\n",
       "      <td>b</td>\n",
       "      <td>36.33</td>\n",
       "      <td>2.125</td>\n",
       "      <td>y</td>\n",
       "      <td>p</td>\n",
       "      <td>w</td>\n",
       "      <td>v</td>\n",
       "      <td>0.085</td>\n",
       "      <td>t</td>\n",
       "      <td>t</td>\n",
       "      <td>1</td>\n",
       "      <td>f</td>\n",
       "      <td>g</td>\n",
       "      <td>50.0</td>\n",
       "      <td>1187</td>\n",
       "    </tr>\n",
       "    <tr>\n",
       "      <th>351</th>\n",
       "      <td>b</td>\n",
       "      <td>22.17</td>\n",
       "      <td>0.585</td>\n",
       "      <td>y</td>\n",
       "      <td>p</td>\n",
       "      <td>ff</td>\n",
       "      <td>ff</td>\n",
       "      <td>0.000</td>\n",
       "      <td>f</td>\n",
       "      <td>f</td>\n",
       "      <td>0</td>\n",
       "      <td>f</td>\n",
       "      <td>g</td>\n",
       "      <td>100.0</td>\n",
       "      <td>0</td>\n",
       "    </tr>\n",
       "    <tr>\n",
       "      <th>118</th>\n",
       "      <td>b</td>\n",
       "      <td>57.83</td>\n",
       "      <td>7.040</td>\n",
       "      <td>u</td>\n",
       "      <td>g</td>\n",
       "      <td>m</td>\n",
       "      <td>v</td>\n",
       "      <td>14.000</td>\n",
       "      <td>t</td>\n",
       "      <td>t</td>\n",
       "      <td>6</td>\n",
       "      <td>t</td>\n",
       "      <td>g</td>\n",
       "      <td>360.0</td>\n",
       "      <td>1332</td>\n",
       "    </tr>\n",
       "  </tbody>\n",
       "</table>\n",
       "</div>"
      ],
      "text/plain": [
       "    A1     A2     A3 A4 A5  A6  A7      A8 A9 A10  A11 A12 A13    A14   A15\n",
       "596  a  46.08  3.000  u  g   c   v   2.375  t   t    8   t   g  396.0  4159\n",
       "303  a  15.92  2.875  u  g   q   v   0.085  f   f    0   f   g  120.0     0\n",
       "204  b  36.33  2.125  y  p   w   v   0.085  t   t    1   f   g   50.0  1187\n",
       "351  b  22.17  0.585  y  p  ff  ff   0.000  f   f    0   f   g  100.0     0\n",
       "118  b  57.83  7.040  u  g   m   v  14.000  t   t    6   t   g  360.0  1332"
      ]
     },
     "execution_count": 28,
     "metadata": {},
     "output_type": "execute_result"
    }
   ],
   "source": [
    "X_train.head()"
   ]
  }
 ],
 "metadata": {
  "kernelspec": {
   "display_name": "Python 3.10.6 ('sklearn')",
   "language": "python",
   "name": "python3"
  },
  "language_info": {
   "codemirror_mode": {
    "name": "ipython",
    "version": 3
   },
   "file_extension": ".py",
   "mimetype": "text/x-python",
   "name": "python",
   "nbconvert_exporter": "python",
   "pygments_lexer": "ipython3",
   "version": "3.10.8"
  },
  "orig_nbformat": 4,
  "vscode": {
   "interpreter": {
    "hash": "abba74b63ac07f00554c7676ecb12976ca4959712221a1ddcaf32d27fe78653e"
   }
  }
 },
 "nbformat": 4,
 "nbformat_minor": 2
}
